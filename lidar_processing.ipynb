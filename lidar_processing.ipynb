{
 "cells": [
  {
   "cell_type": "code",
   "execution_count": null,
   "id": "c8c5eaec",
   "metadata": {},
   "outputs": [],
   "source": [
    "# Import packages\n",
    "# Make sure you have RiverREM imported, check readme for instructions\n",
    "import os\n",
    "import pathlib\n",
    "\n",
    "import earthpy as et\n",
    "import earthpy.plot as ep\n",
    "import matplotlib.pyplot as plt\n",
    "from load_plot_model import load_dtm, plot_model, plot_hists, plot_hist, run_rem_maker\n",
    "from riverrem.REMMaker import REMMaker, clear_osm_cache\n",
    "import requests\n",
    "import rioxarray as rxr"
   ]
  },
  {
   "cell_type": "code",
   "execution_count": null,
   "id": "9f7822c0",
   "metadata": {},
   "outputs": [],
   "source": [
    "# Set working directory\n",
    "working_dir = os.path.join(\n",
    "    pathlib.Path.home(), 'earth-analytics', 'data', 'watershed-project')\n",
    "\n",
    "# Try/Except Block   \n",
    "try:\n",
    "    os.chdir(working_dir)\n",
    "except:\n",
    "    print('{} does not exist. Creating...'.format(working_dir))\n",
    "    os.makedirs(working_dir)\n",
    "    os.chdir(working_dir)\n",
    "else:\n",
    "    print('{} is now the working directory'.format(working_dir))"
   ]
  },
  {
   "cell_type": "markdown",
   "id": "563929a2",
   "metadata": {},
   "source": [
    "# Load the UAV DTMs and REMs"
   ]
  },
  {
   "cell_type": "code",
   "execution_count": null,
   "id": "1fcd26a7",
   "metadata": {},
   "outputs": [],
   "source": [
    "# Define urls to UAV DTMs and REMs (saved on zenodo)\n",
    "# make into function\n",
    "highway93_dtm_url = ('https://zenodo.org/record/8218054/files/'\n",
    "                     'highway93_uav_dtm.tif?download=1')\n",
    "highway93_rem_url = ('https://zenodo.org/record/8218054/files/'\n",
    "                     'highway93_uav_rem.tif?download=1')\n",
    "highway93_lidar_dtm_url = ('https://zenodo.org/record/8218054/files/'\n",
    "                           'highway93_lidar_dtm.asc?download=1')\n",
    "applevalley_dtm_url = ('https://zenodo.org/record/8218054/files/'\n",
    "                       'applevalley_uav_dtm.tif?download=1')\n",
    "applevalley_rem_url = ('https://zenodo.org/record/8218054/files/'\n",
    "                       'applevalley_uav_rem.tif?download=1')\n",
    "applevalley_lidar_dtm_url = ('https://zenodo.org/record/8218054/files/'\n",
    "                             'applevalley_lidar_dtm.asc?download=1') \n",
    "hallmeadows_dtm_url = ('https://zenodo.org/record/8218054/files/'\n",
    "                       'hallmeadows_uav_dtm.tif?download=1')\n",
    "hallmeadows_rem_url = ('https://zenodo.org/record/8218054/files/'\n",
    "                       'hallmeadows_uav_rem.tif?download=1')\n",
    "hallmeadows_lidar_dtm_url = ('https://zenodo.org/record/8218054/files/'\n",
    "                             'hallmeadows_lidar_dtm.asc?download=1')"
   ]
  },
  {
   "cell_type": "code",
   "execution_count": null,
   "id": "b25bc04a",
   "metadata": {},
   "outputs": [],
   "source": [
    "# Load dataarrays for UAV-derived dtms and rems and lidar rems\n",
    "highway93_uav_dtm = load_dtm(data_url = highway93_dtm_url, \n",
    "                          site_name = 'highway93',\n",
    "                          file_name = 'highway93_dtm.tif')\n",
    "applevalley_uav_dtm = load_dtm(data_url = applevalley_dtm_url, \n",
    "                          site_name = 'applevalley',\n",
    "                          file_name = 'applevalley_dtm.tif')\n",
    "hallmeadows_uav_dtm = load_dtm(data_url = hallmeadows_dtm_url, \n",
    "                          site_name = 'hallmeadows',\n",
    "                          file_name = 'hallmeadows_dtm.tif')\n",
    "highway93_uav_rem = load_dtm(data_url = highway93_rem_url, \n",
    "                          site_name = 'highway93',\n",
    "                          file_name = 'highway93_rem.tif')\n",
    "applevalley_uav_rem = load_dtm(data_url = applevalley_rem_url, \n",
    "                          site_name = 'applevalley',\n",
    "                          file_name = 'applevalley_rem.tif')\n",
    "hallmeadows_uav_rem = load_dtm(data_url = hallmeadows_rem_url, \n",
    "                          site_name = 'hallmeadows',\n",
    "                          file_name = 'hallmeadows_rem.tif')\n",
    "highway93_lidar_dtm = load_dtm(data_url = highway93_lidar_dtm_url, \n",
    "                          site_name = 'highway93',\n",
    "                          file_name = 'highway93_lidar_dtm.asc')\n",
    "applevalley_lidar_dtm = load_dtm(data_url = applevalley_lidar_dtm_url, \n",
    "                          site_name = 'applevalley',\n",
    "                          file_name = 'applevalley_lidar_dtm.asc')\n",
    "hallmeadows_lidar_dtm = load_dtm(data_url = hallmeadows_lidar_dtm_url, \n",
    "                          site_name = 'hallmeadows',\n",
    "                          file_name = 'hallmeadows_lidar_dtm.asc')\n",
    "\n",
    "# Lists of UAV DTMs and REMs\n",
    "uav_dtm_list = [highway93_uav_dtm, \n",
    "                applevalley_uav_dtm, \n",
    "                hallmeadows_uav_dtm]\n",
    "\n",
    "uav_rem_list = [highway93_uav_rem, \n",
    "                applevalley_uav_rem, \n",
    "                hallmeadows_uav_rem]\n",
    "\n",
    "lidar_dtm_list = [highway93_lidar_dtm,\n",
    "                 applevalley_lidar_dtm,\n",
    "                 hallmeadows_lidar_dtm]"
   ]
  },
  {
   "cell_type": "code",
   "execution_count": null,
   "id": "3fc919de",
   "metadata": {},
   "outputs": [],
   "source": [
    "#lidar_crs = highway93_lidar_dtm_local.rio.crs\n",
    "lidar_dtm_path_list = [highway93_lidar_dtm_url, \n",
    "                      applevalley_lidar_dtm, \n",
    "                      hallmeadows_lidar_dtm]"
   ]
  },
  {
   "cell_type": "markdown",
   "id": "1f879a0a",
   "metadata": {},
   "source": [
    "# Process LiDAR Data"
   ]
  },
  {
   "cell_type": "code",
   "execution_count": null,
   "id": "8a534882",
   "metadata": {},
   "outputs": [],
   "source": [
    "def reproject_match_lidar(site_uav_rem, lidar_path, lidar_crs, site_name):\n",
    "    \"\"\"\n",
    "    Loads the lidar DTM, reprojects and matches the resolution and boundary of the UAV REM. \n",
    "    Saves as a tif file for use in RiverREM\n",
    "    \n",
    "    Parameters\n",
    "    ------------   \n",
    "    site_uav_rem: dataarray\n",
    "        The rem to reproject and match.\n",
    "\n",
    "    lidar_path: str\n",
    "        Path to LiDAR dtm.\n",
    "        \n",
    "    lidar_path: int\n",
    "        Original crs of the LiDAR dtm.\n",
    "        \n",
    "    Returns\n",
    "    -------\n",
    "    lidar_dtm_match: dataarray.\n",
    "        The processed lidar dtm.\n",
    "    \"\"\"\n",
    "    # Create dataarray for lidar DTM\n",
    "    lidar_dtm = rxr.open_rasterio(lidar_path, masked=True)\n",
    "    \n",
    "    # Write CRS to lidar_dtm (2876); remove this step once link updated\n",
    "    lidar_dtm_crs = lidar_dtm.rio.write_crs(lidar_crs) \n",
    "    \n",
    "    # Reproject/match lidar DTM to UAV REM\n",
    "    lidar_dtm_match = lidar_dtm_crs.rio.reproject_match(site_uav_rem)\n",
    "    \n",
    "    # Save the clipped lidar dtm as raster for use in RiverREM\n",
    "    #lidar_dtm_match.rio.to_raster(site_name, (\"{}_lidar_dtm_clipped.tif\").format(site_name))\n",
    "    \n",
    "    return lidar_dtm_match"
   ]
  },
  {
   "cell_type": "code",
   "execution_count": null,
   "id": "61e2d445",
   "metadata": {},
   "outputs": [],
   "source": [
    "def clip_lidar(site_uav_rem, lidar_path, lidar_crs, site_name):\n",
    "    \"\"\"Short function to clip lidar for draft blog post\"\"\"\n",
    "    # Create dataarray for lidar DTM\n",
    "    lidar_dtm = rxr.open_rasterio(lidar_path, masked=True)\n",
    "    \n",
    "    # Write CRS to lidar_dtm (2876); remove this step once link updated\n",
    "    lidar_dtm_crs = lidar_dtm.rio.write_crs(lidar_crs) \n",
    "    \n",
    "    # Reproject lidar DTM to UAV REM CRS\n",
    "    lidar_dtm_reproject = lidar_dtm_crs.rio.reproject(site_uav_rem)\n",
    "    \n",
    "    # Boundaries of UAV REM\n",
    "    uav_rem_bounds = site_uav_rem.rio.bounds()\n",
    "    uav_rem_crs = site_uav_rem.rio.crs\n",
    "\n",
    "    lidar_clipped = lidar_dtm_reproject.rio.clip(uav_rem_bounds, uav_rem_crs)\n",
    "    \n",
    "    #Clip to UAV REM extent\n",
    "    \n",
    "    return lidar_clipped"
   ]
  },
  {
   "cell_type": "code",
   "execution_count": null,
   "id": "762692ec",
   "metadata": {},
   "outputs": [],
   "source": [
    "# Load clipped dtm for example site for blog post\n",
    "applevalley_lidar_dtm_clipped = clip_lidar(site_uav_rem = applevalley_uav_rem,\n",
    "                                           lidar_path =applevalley_lidar_dtm_url, \n",
    "                                           lidar_crs = 2876,\n",
    "                                           site_name='applevalley')"
   ]
  },
  {
   "cell_type": "code",
   "execution_count": null,
   "id": "f12a7361",
   "metadata": {},
   "outputs": [],
   "source": [
    "plot_hist(model=applevalley_lidar_dtm_matched, title='apple valley histogram', color='cyan')"
   ]
  },
  {
   "cell_type": "code",
   "execution_count": null,
   "id": "16802fb4",
   "metadata": {},
   "outputs": [],
   "source": [
    "# Run the process lidar function to create a lidar-derived DTM for each site\n",
    "site_names = ('highway93', 'applevalley', 'hallmeadows')\n",
    "\n",
    "# How to use .format with a non-string object?\n",
    "#lidar_dtm_list = []\n",
    "#for site in site_names:\n",
    " #   processed_lidar_dtm = reproject_match_lidar(site_uav_rem, lidar_path, lidar_crs, name)\n",
    "    #lidar_dtm_list.append(lidar_rem)\n",
    "    "
   ]
  },
  {
   "cell_type": "markdown",
   "id": "630117bc",
   "metadata": {},
   "source": [
    "# Just the LiDAR DTM Plots"
   ]
  },
  {
   "cell_type": "code",
   "execution_count": null,
   "id": "d2a69bf6",
   "metadata": {},
   "outputs": [],
   "source": [
    "# Define plot space with x subplots\n",
    "fig, axes = plt.subplots(3, 1, figsize=(12, 12))\n",
    "\n",
    "# List of site names to pass to function for title\n",
    "plot_titles = ('Highway 93', 'Apple Valley', 'Hall Meadows')\n",
    "\n",
    "# List of dtms to pass to function\n",
    "lidar_dtm_list\n",
    "\n",
    "# Call plot function\n",
    "for i, axe in enumerate(axes.flatten()):\n",
    "    plot_models(\n",
    "        model=lidar_dtm_list[i],\n",
    "        title=plot_titles[i],\n",
    "        coarsen=(False, False, False),\n",
    "        ax=axe)"
   ]
  },
  {
   "cell_type": "markdown",
   "id": "d2031523",
   "metadata": {},
   "source": [
    "# Create LiDAR REMs Using REMMaker Tool"
   ]
  },
  {
   "cell_type": "code",
   "execution_count": null,
   "id": "7995e4f3",
   "metadata": {},
   "outputs": [],
   "source": [
    "def run_rem_maker(name, k=100):\n",
    "    \"\"\"Run the REMMaker tool\"\"\"\n",
    "    \n",
    "    # Input the DTM file path and desired output directory\n",
    "    override_cache = False\n",
    "    lidar_dtm_path = os.path.join(('LiDAR_DTM_{}.tif').format(name))\n",
    "    lidar_out_path = os.path.join(lidar_dir, ('lidar_{}').format(name))\n",
    "    lidar_rem_path = os.path.join(lidar_out_path, \n",
    "                                  ('LiDAR_DTM_{}_REM.tif').format(name))\n",
    "\n",
    "    # Run the REMMaker if the path to the REM does not already exist\n",
    "    if (not os.path.exists(lidar_rem_path)) or override_cache:\n",
    "        rem_maker = REMMaker(dem=lidar_dtm_path, \n",
    "                             out_dir=lidar_out_path, \n",
    "                             interp_pts=1000, \n",
    "                             k=100)\n",
    "\n",
    "        # clear OSM cache\n",
    "        clear_osm_cache()\n",
    "\n",
    "        # create an REM\n",
    "        rem_maker.make_rem()\n",
    "\n",
    "        # create an REM visualization with the given colormap\n",
    "        rem_maker.make_rem_viz(cmap='mako_r')\n",
    "\n",
    "    else:\n",
    "        print('The REM already exists. Not running REMMaker')"
   ]
  },
  {
   "cell_type": "code",
   "execution_count": null,
   "id": "f5812bed",
   "metadata": {},
   "outputs": [],
   "source": [
    "# Create REM for all sites with run_rem_maker function\n",
    "site_names = ('highway93', 'applevalley', 'hallmeadows')\n",
    "lidar_rem_list = []\n",
    "\n",
    "for site in site_names:\n",
    "    run_rem_maker(name=site)\n",
    "    lidar_rem_path = os.path.join(lidar_dir,\n",
    "                                  ('lidar_{}').format(site),\n",
    "                                  ('LiDAR_DTM_{}_REM.tif').format(site))\n",
    "    lidar_rem = rxr.open_rasterio(lidar_rem_path, masked=True)    \n",
    "    lidar_rem_list.append(lidar_rem)"
   ]
  },
  {
   "cell_type": "markdown",
   "id": "8e52d91f",
   "metadata": {},
   "source": [
    "# Plot the UAV and LiDAR Derived REMs"
   ]
  },
  {
   "cell_type": "code",
   "execution_count": null,
   "id": "6beb6505",
   "metadata": {},
   "outputs": [],
   "source": [
    "# Plot the REMs\n",
    "# Define plot space with x subplots\n",
    "fig, axes = plt.subplots(3, 2, figsize=(12, 14))\n",
    "\n",
    "# List of site names to pass to function for titles\n",
    "plot_title = ('UAV-Derived REM for Highway 93', \n",
    "              'UAV-Derived REM for Apple Valley', \n",
    "              'UAV-Derived REM for Hall Meadows',\n",
    "              'LiDAR-Derived REM for Highway 93', \n",
    "              'LiDAR-Derived REM for Apple Valley', \n",
    "              'LiDAR-Derived REM for Hall Meadows')\n",
    "\n",
    "# List of REMs to pass to plot function\n",
    "all_rem_list = (uav_rem_list + lidar_rem_list)\n",
    "\n",
    "# Call plot function\n",
    "for i, axe in enumerate(axes.flatten()):\n",
    "    plot_models(\n",
    "        model=all_rem_list[i],\n",
    "        title=plot_title[i],\n",
    "        coarsen=(True, True, True, False, False, False),\n",
    "        ax=axe)\n",
    "# Note - I increased value of k in the REMMAker and streaking improved!!\n",
    "# \"param k: number of nearest neighbors to use for IDW interpolation. If None, an appropriate value is estimated.\n",
    "#  The estimation routine uses k between 5-100 points (0.5-10% of the river length) depending on the\n",
    "#  sinuosity of the river of interest. Greater values of k are used for more sinuous rivers.\"\""
   ]
  }
 ],
 "metadata": {
  "kernelspec": {
   "display_name": "Python 3 (ipykernel)",
   "language": "python",
   "name": "python3"
  },
  "language_info": {
   "codemirror_mode": {
    "name": "ipython",
    "version": 3
   },
   "file_extension": ".py",
   "mimetype": "text/x-python",
   "name": "python",
   "nbconvert_exporter": "python",
   "pygments_lexer": "ipython3",
   "version": "3.10.10"
  },
  "varInspector": {
   "cols": {
    "lenName": 16,
    "lenType": 16,
    "lenVar": 40
   },
   "kernels_config": {
    "python": {
     "delete_cmd_postfix": "",
     "delete_cmd_prefix": "del ",
     "library": "var_list.py",
     "varRefreshCmd": "print(var_dic_list())"
    },
    "r": {
     "delete_cmd_postfix": ") ",
     "delete_cmd_prefix": "rm(",
     "library": "var_list.r",
     "varRefreshCmd": "cat(var_dic_list()) "
    }
   },
   "types_to_exclude": [
    "module",
    "function",
    "builtin_function_or_method",
    "instance",
    "_Feature"
   ],
   "window_display": false
  }
 },
 "nbformat": 4,
 "nbformat_minor": 5
}
