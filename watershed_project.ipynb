{
 "cells": [
  {
   "cell_type": "markdown",
   "id": "addda2eb-339d-4452-aff3-92c63c95c041",
   "metadata": {
    "tags": []
   },
   "source": [
    "# Watershed Project - Mapping Floodplain Connectivity in Boulder County\n",
    "![Watershed Project](https://watershed.center/wp-content/uploads/2023/04/adaptive-restoration-square.jpg)"
   ]
  },
  {
   "cell_type": "markdown",
   "id": "16c1211f-de7d-40ab-a69b-de7258473946",
   "metadata": {},
   "source": [
    "* Add code to download 2 datesets and process to make a plot\n",
    "* Possibly link to DTM on google and use RiverREM to plot or just upload DTM and they process (but file size may be to large)\n",
    "* Create an environement that inlcudes river REM project"
   ]
  },
  {
   "cell_type": "code",
   "execution_count": 1,
   "id": "b7c153d6",
   "metadata": {
    "tags": []
   },
   "outputs": [],
   "source": [
    "# set local paths\n",
    "dtm = r'C:\\Users\\Julia\\Documents\\CU_Earth Data Analytics\\Spring Project\\DEM_DTM_ortho\\DTM_Highway93.tif'\n",
    "centerline_shp = r'C:\\Users\\Julia\\Documents\\CU_Earth Data Analytics\\Spring Project\\RiverREM\\streamline_js_highway93.shp'\n",
    "out_dir = r'C:\\Users\\Julia\\Documents\\CU_Earth Data Analytics\\Spring Project\\RiverREM\\test2'"
   ]
  },
  {
   "cell_type": "code",
   "execution_count": 6,
   "id": "86ed8972",
   "metadata": {
    "tags": []
   },
   "outputs": [],
   "source": [
    "# import packages\n",
    "# make sure you have RiverREM imported, check readme for instructions\n",
    "import os\n",
    "import pathlib\n",
    "import zipfile\n",
    "\n",
    "import earthpy as et\n",
    "import earthpy.plot as ep\n",
    "import requests\n",
    "from riverrem.REMMaker import REMMaker\n",
    "import rasterio as rio"
   ]
  },
  {
   "cell_type": "code",
   "execution_count": 7,
   "id": "dd535da4-7aa1-4e00-a26e-c140b17fc4c1",
   "metadata": {
    "tags": []
   },
   "outputs": [],
   "source": [
    "# Set working directory\n",
    "working_dir = os.path.join(\n",
    "    pathlib.Path.home(), 'earth-analytics', 'data', 'watershed-project')\n",
    "if not os.path.exists(working_dir):\n",
    "    print('{} does not exist. Creating...'.format(working_dir))\n",
    "    os.makedirs(working_dir)\n",
    "    \n",
    "os.chdir(working_dir)"
   ]
  },
  {
   "cell_type": "code",
   "execution_count": 9,
   "id": "5d286b4c-83a3-477e-bcb6-1bc91bb3097f",
   "metadata": {
    "tags": []
   },
   "outputs": [],
   "source": [
    "# Load streamline shapefile from repo\n",
    "centerline_shp_git = \"streamline.shp\"\n",
    "\n",
    "# Download and cache DTM \n",
    "override_cache = False\n",
    "# Load dtm from gdrive?\n",
    "hwy_93_url = (\"https://drive.google.com/file\"\n",
    "              \"/d/1QBTtv5_t7VOMaB_YLJNgc4bZEqjNluon/view?usp=share_link\")\n",
    "\n",
    "dtm_dir = os.path.join('uav_hwy93')\n",
    "dtm_path = os.path.join(dtm_dir, 'DTM_Highway93.tif')\n",
    "\n",
    "# Cache DTM file\n",
    "if not os.path.exists(dtm_dir):\n",
    "    os.makedirs(dtm_dir)\n",
    "    \n",
    "    if (not os.path.exists(dtm_path)) or override_cache:\n",
    "        # Download full DTM as zipfile \n",
    "        response = requests.get(hwy_93_url)\n",
    "\n",
    "        # Write in respose content using context manager\n",
    "        with open(dtm_path, 'wb') as dtm_file:\n",
    "            dtm_file.write(response.content)\n",
    "       \n",
    "        # Set  downloaded dtm file as variable for riverrem\n",
    "        river_dtm = dtm_file\n",
    "        \n",
    "# rem_maker = REMMaker(dem=river_dtm, centerline_shp = centerline_shp_got, out_dir=dtm_dir, interp_pts=2000)"
   ]
  },
  {
   "cell_type": "code",
   "execution_count": 40,
   "id": "bf8f76b5",
   "metadata": {},
   "outputs": [
    {
     "name": "stderr",
     "output_type": "stream",
     "text": [
      "[INFO] 2023-04-29 21:14:09,715 - Getting DEM projection.\n",
      "[INFO] 2023-04-29 21:14:09,761 - Reading DEM as array.\n",
      "[INFO] 2023-04-29 21:14:16,647 - Getting DEM bounds.\n",
      "[INFO] 2023-04-29 21:14:16,691 - Mapping array indices to coordinates.\n",
      "[INFO] 2023-04-29 21:14:16,758 - Using input centerline shapefile.\n",
      "C:\\Users\\Julia\\miniconda3\\envs\\earth-analytics-python\\lib\\site-packages\\geopandas\\tools\\clip.py:66: FutureWarning: In a future version, `df.iloc[:, i] = newvals` will attempt to set the values inplace instead of always setting a new array. To retain the old behavior, use either `df[df.columns[i]] = newvals` or, if columns are non-unique, `df.isetitem(i, newvals)`\n",
      "  clipped.loc[\n",
      "C:\\Users\\Julia\\miniconda3\\envs\\earth-analytics-python\\lib\\site-packages\\riverrem\\REMMaker.py:322: UserWarning: Geometry is in a geographic CRS. Results from 'length' are likely incorrect. Use 'GeoSeries.to_crs()' to re-project geometries to a projected CRS before this operation.\n",
      "\n",
      "  self.river_length = self.rivers.length.sum()\n",
      "[INFO] 2023-04-29 21:14:17,623 - Making river points shapefile.\n",
      "[INFO] 2023-04-29 21:14:18,013 - Getting river elevation at DEM pixels.\n",
      "[INFO] 2023-04-29 21:14:39,761 - Interpolating river elevation across DEM extent.\n",
      "[INFO] 2023-04-29 21:14:39,798 - Estimating k.\n",
      "[INFO] 2023-04-29 21:14:39,812 - Guessing k = 61\n",
      "[INFO] 2023-04-29 21:14:39,814 - Using k = 61 nearest neighbors.\n",
      "[INFO] 2023-04-29 21:14:50,729 - Getting coords of points to interpolate.\n",
      "[INFO] 2023-04-29 21:15:11,835 - Constructing tree.\n",
      "[INFO] 2023-04-29 21:15:11,975 - Querying tree.\n",
      "[INFO] 2023-04-29 21:15:11,975 - Chunking query...\n",
      "[INFO] 2023-04-29 21:15:11,985 - 0.00%\n",
      "[INFO] 2023-04-29 21:15:30,156 - 0.96%\n",
      "[INFO] 2023-04-29 21:15:55,229 - 1.92%\n",
      "[INFO] 2023-04-29 21:16:18,051 - 2.88%\n",
      "[INFO] 2023-04-29 21:16:38,131 - 3.85%\n",
      "[INFO] 2023-04-29 21:16:55,228 - 4.81%\n",
      "[INFO] 2023-04-29 21:17:11,760 - 5.77%\n",
      "[INFO] 2023-04-29 21:17:27,454 - 6.73%\n",
      "[INFO] 2023-04-29 21:17:41,716 - 7.69%\n",
      "[INFO] 2023-04-29 21:17:53,939 - 8.65%\n",
      "[INFO] 2023-04-29 21:18:05,105 - 9.62%\n",
      "[INFO] 2023-04-29 21:18:19,331 - 10.58%\n",
      "[INFO] 2023-04-29 21:18:30,527 - 11.54%\n",
      "[INFO] 2023-04-29 21:18:44,009 - 12.50%\n",
      "[INFO] 2023-04-29 21:18:55,619 - 13.46%\n",
      "[INFO] 2023-04-29 21:19:06,198 - 14.42%\n",
      "[INFO] 2023-04-29 21:19:18,405 - 15.38%\n",
      "[INFO] 2023-04-29 21:19:29,152 - 16.35%\n",
      "[INFO] 2023-04-29 21:19:38,527 - 17.31%\n",
      "[INFO] 2023-04-29 21:19:47,480 - 18.27%\n",
      "[INFO] 2023-04-29 21:19:54,650 - 19.23%\n",
      "[INFO] 2023-04-29 21:20:02,520 - 20.19%\n",
      "[INFO] 2023-04-29 21:20:11,919 - 21.15%\n",
      "[INFO] 2023-04-29 21:20:19,707 - 22.12%\n",
      "[INFO] 2023-04-29 21:20:26,716 - 23.08%\n",
      "[INFO] 2023-04-29 21:20:36,185 - 24.04%\n",
      "[INFO] 2023-04-29 21:20:44,432 - 25.00%\n",
      "[INFO] 2023-04-29 21:20:52,158 - 25.96%\n",
      "[INFO] 2023-04-29 21:20:59,045 - 26.92%\n",
      "[INFO] 2023-04-29 21:21:08,974 - 27.88%\n",
      "[INFO] 2023-04-29 21:21:18,182 - 28.85%\n",
      "[INFO] 2023-04-29 21:21:27,399 - 29.81%\n",
      "[INFO] 2023-04-29 21:21:36,616 - 30.77%\n",
      "[INFO] 2023-04-29 21:21:45,190 - 31.73%\n",
      "[INFO] 2023-04-29 21:21:53,289 - 32.69%\n",
      "[INFO] 2023-04-29 21:22:00,949 - 33.65%\n",
      "[INFO] 2023-04-29 21:22:09,065 - 34.62%\n",
      "[INFO] 2023-04-29 21:22:18,643 - 35.58%\n",
      "[INFO] 2023-04-29 21:22:27,967 - 36.54%\n",
      "[INFO] 2023-04-29 21:22:38,059 - 37.50%\n",
      "[INFO] 2023-04-29 21:22:48,270 - 38.46%\n",
      "[INFO] 2023-04-29 21:22:58,530 - 39.42%\n",
      "[INFO] 2023-04-29 21:23:09,326 - 40.38%\n",
      "[INFO] 2023-04-29 21:23:21,516 - 41.35%\n",
      "[INFO] 2023-04-29 21:23:33,676 - 42.31%\n",
      "[INFO] 2023-04-29 21:23:46,095 - 43.27%\n",
      "[INFO] 2023-04-29 21:23:59,347 - 44.23%\n",
      "[INFO] 2023-04-29 21:24:11,937 - 45.19%\n",
      "[INFO] 2023-04-29 21:24:24,973 - 46.15%\n",
      "[INFO] 2023-04-29 21:24:38,674 - 47.12%\n",
      "[INFO] 2023-04-29 21:24:51,168 - 48.08%\n",
      "[INFO] 2023-04-29 21:25:05,202 - 49.04%\n",
      "[INFO] 2023-04-29 21:25:18,279 - 50.00%\n",
      "[INFO] 2023-04-29 21:25:32,238 - 50.96%\n",
      "[INFO] 2023-04-29 21:25:46,615 - 51.92%\n",
      "[INFO] 2023-04-29 21:26:01,501 - 52.88%\n",
      "[INFO] 2023-04-29 21:26:16,276 - 53.85%\n",
      "[INFO] 2023-04-29 21:26:31,949 - 54.81%\n",
      "[INFO] 2023-04-29 21:26:48,801 - 55.77%\n",
      "[INFO] 2023-04-29 21:27:06,152 - 56.73%\n",
      "[INFO] 2023-04-29 21:27:21,427 - 57.69%\n",
      "[INFO] 2023-04-29 21:27:37,895 - 58.65%\n",
      "[INFO] 2023-04-29 21:27:54,757 - 59.62%\n",
      "[INFO] 2023-04-29 21:28:11,740 - 60.58%\n",
      "[INFO] 2023-04-29 21:28:29,100 - 61.54%\n",
      "[INFO] 2023-04-29 21:28:47,769 - 62.50%\n",
      "[INFO] 2023-04-29 21:29:10,167 - 63.46%\n",
      "[INFO] 2023-04-29 21:29:32,317 - 64.42%\n",
      "[INFO] 2023-04-29 21:29:48,462 - 65.38%\n",
      "[INFO] 2023-04-29 21:30:08,948 - 66.35%\n",
      "[INFO] 2023-04-29 21:30:29,516 - 67.31%\n",
      "[INFO] 2023-04-29 21:30:50,231 - 68.27%\n",
      "[INFO] 2023-04-29 21:31:11,425 - 69.23%\n",
      "[INFO] 2023-04-29 21:31:31,157 - 70.19%\n",
      "[INFO] 2023-04-29 21:31:54,221 - 71.15%\n",
      "[INFO] 2023-04-29 21:32:17,239 - 72.12%\n",
      "[INFO] 2023-04-29 21:32:40,489 - 73.08%\n",
      "[INFO] 2023-04-29 21:33:01,140 - 74.04%\n",
      "[INFO] 2023-04-29 21:33:18,356 - 75.00%\n",
      "[INFO] 2023-04-29 21:33:36,100 - 75.96%\n",
      "[INFO] 2023-04-29 21:33:54,741 - 76.92%\n",
      "[INFO] 2023-04-29 21:34:12,437 - 77.88%\n",
      "[INFO] 2023-04-29 21:34:28,200 - 78.85%\n",
      "[INFO] 2023-04-29 21:34:43,276 - 79.81%\n",
      "[INFO] 2023-04-29 21:34:58,491 - 80.77%\n",
      "[INFO] 2023-04-29 21:35:14,076 - 81.73%\n",
      "[INFO] 2023-04-29 21:35:31,066 - 82.69%\n",
      "[INFO] 2023-04-29 21:35:43,739 - 83.65%\n",
      "[INFO] 2023-04-29 21:35:58,067 - 84.62%\n",
      "[INFO] 2023-04-29 21:36:10,558 - 85.58%\n",
      "[INFO] 2023-04-29 21:36:23,598 - 86.54%\n",
      "[INFO] 2023-04-29 21:36:36,878 - 87.50%\n",
      "[INFO] 2023-04-29 21:36:49,129 - 88.46%\n",
      "[INFO] 2023-04-29 21:37:02,235 - 89.42%\n",
      "[INFO] 2023-04-29 21:37:16,189 - 90.38%\n",
      "[INFO] 2023-04-29 21:37:27,976 - 91.35%\n",
      "[INFO] 2023-04-29 21:37:40,389 - 92.31%\n",
      "[INFO] 2023-04-29 21:37:52,871 - 93.27%\n",
      "[INFO] 2023-04-29 21:38:04,093 - 94.23%\n",
      "[INFO] 2023-04-29 21:38:16,267 - 95.19%\n",
      "[INFO] 2023-04-29 21:38:26,488 - 96.15%\n",
      "[INFO] 2023-04-29 21:38:37,584 - 97.12%\n",
      "[INFO] 2023-04-29 21:38:48,400 - 98.08%\n",
      "[INFO] 2023-04-29 21:38:59,656 - 99.04%\n",
      "[INFO] 2023-04-29 21:39:09,765 - Created interpolated WSE array.\n",
      "[INFO] 2023-04-29 21:39:43,342 - \n",
      "Detrending DEM.\n",
      "[INFO] 2023-04-29 21:40:01,894 - \n",
      "Blending REM with hillshade.\n"
     ]
    },
    {
     "name": "stdout",
     "output_type": "stream",
     "text": [
      "\n",
      "Making multidirectional hillshade raster.\n",
      "Tiling and compressing raster.\n",
      "Saved ./.cache\\DEM_Highway93_hillshade.tif.\n",
      "\n",
      "Making color relief map with cmap=mako_r.\n",
      "Tiling and compressing raster.\n",
      "Saved ./.cache\\DEM_Highway93_REM_color-relief.tif.\n",
      "\n",
      "Generating .png file.\n",
      "Saved ./.cache\\DEM_Highway93_REM_color-relief.png.\n",
      "\n",
      "Making hillshade-color composite raster.\n",
      "Tiling and compressing raster.\n",
      "Saved C:\\Users\\Julia\\Documents\\CU_Earth Data Analytics\\Spring Project\\RiverREM\\test2\\DEM_Highway93_hillshade-color.tif.\n",
      "\n",
      "Generating .png file.\n",
      "Saved C:\\Users\\Julia\\Documents\\CU_Earth Data Analytics\\Spring Project\\RiverREM\\test2\\DEM_Highway93_hillshade-color.png.\n"
     ]
    },
    {
     "data": {
      "text/plain": [
       "'C:\\\\Users\\\\Julia\\\\Documents\\\\CU_Earth Data Analytics\\\\Spring Project\\\\RiverREM\\\\test2\\\\DEM_Highway93_hillshade-color.tif'"
      ]
     },
     "execution_count": 40,
     "metadata": {},
     "output_type": "execute_result"
    }
   ],
   "source": [
    "# provide the DEM file path and desired output directory\n",
    "rem_maker = REMMaker(dem=dtm, centerline_shp = centerline_shp, out_dir=out_dir, interp_pts=2000)\n",
    "# create an REM\n",
    "rem_maker.make_rem()\n",
    "# create an REM visualization with the given colormap\n",
    "rem_maker.make_rem_viz(cmap='mako_r')\n"
   ]
  },
  {
   "cell_type": "code",
   "execution_count": 28,
   "id": "09ac246e",
   "metadata": {},
   "outputs": [],
   "source": [
    "# Output path\n",
    "rem_path = r'C:\\Users\\Julia\\Documents\\CU_Earth Data Analytics\\Spring Project\\RiverREM\\test2\\DEM_Highway93_REM.tif'\n"
   ]
  },
  {
   "cell_type": "code",
   "execution_count": 50,
   "id": "cad86043",
   "metadata": {},
   "outputs": [
    {
     "data": {
      "text/plain": [
       "(<Figure size 1000x600 with 1 Axes>, <AxesSubplot: >)"
      ]
     },
     "execution_count": 50,
     "metadata": {},
     "output_type": "execute_result"
    },
    {
     "data": {
      "image/png": "[encoded data removed]",
      "text/plain": [
       "<Figure size 1000x600 with 1 Axes>"
      ]
     },
     "metadata": {},
     "output_type": "display_data"
    }
   ],
   "source": [
    "# Open rem raster\n",
    "with rio.open(rem_path) as rem_src:\n",
    "    rem_pre_arr = rem_src.read(1)\n",
    "    \n",
    "\n",
    "# Plot\n",
    "# ep.plot_bands(rem_pre_arr,\n",
    "#               title=\"title\",\n",
    "#               cmap=\"Greys\")\n",
    "\n",
    "ep.hist(rem_pre_arr, figsize=(10, 6))\n",
    "\n"
   ]
  },
  {
   "cell_type": "code",
   "execution_count": null,
   "id": "0884026a",
   "metadata": {},
   "outputs": [],
   "source": []
  }
 ],
 "metadata": {
  "kernelspec": {
   "display_name": "Python 3 (ipykernel)",
   "language": "python",
   "name": "python3"
  },
  "language_info": {
   "codemirror_mode": {
    "name": "ipython",
    "version": 3
   },
   "file_extension": ".py",
   "mimetype": "text/x-python",
   "name": "python",
   "nbconvert_exporter": "python",
   "pygments_lexer": "ipython3",
   "version": "3.10.4"
  }
 },
 "nbformat": 4,
 "nbformat_minor": 5
}
