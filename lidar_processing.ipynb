{
 "cells": [
  {
   "cell_type": "code",
   "execution_count": null,
   "id": "c8c5eaec",
   "metadata": {},
   "outputs": [],
   "source": [
    "# Import packages\n",
    "# Make sure you have RiverREM imported, check readme for instructions\n",
    "import os\n",
    "import pathlib\n",
    "import zipfile\n",
    "\n",
    "import earthpy as et\n",
    "import earthpy.plot as ep\n",
    "import matplotlib.pyplot as plt\n",
    "from load_plot_model import load_dtm, plot_model, plot_hists, plot_hist, run_rem_maker\n",
    "from riverrem.REMMaker import REMMaker, clear_osm_cache\n",
    "import requests\n",
    "import rioxarray as rxr"
   ]
  },
  {
   "cell_type": "code",
   "execution_count": null,
   "id": "9f7822c0",
   "metadata": {},
   "outputs": [],
   "source": [
    "# Set working directory\n",
    "working_dir = os.path.join(\n",
    "    pathlib.Path.home(), 'earth-analytics', 'data', 'watershed-project')\n",
    "\n",
    "# Try/Except Block   \n",
    "try:\n",
    "    os.chdir(working_dir)\n",
    "except:\n",
    "    print('{} does not exist. Creating...'.format(working_dir))\n",
    "    os.makedirs(working_dir)\n",
    "    os.chdir(working_dir)\n",
    "else:\n",
    "    print('{} is now the working directory'.format(working_dir))"
   ]
  },
  {
   "cell_type": "markdown",
   "id": "49b7e0a3",
   "metadata": {},
   "source": [
    "## Download and unzip lidar\n",
    "ideally would download from CO hs site, but there is no direct link. I uploaded zip fiels to git, but running into issues unzipping - the extracted files include root directory in filename, and the name is not callable"
   ]
  },
  {
   "cell_type": "code",
   "execution_count": null,
   "id": "dc9d1b2d",
   "metadata": {},
   "outputs": [],
   "source": [
    "# urls to lidar zipfiles\n",
    "highway93_lidar_url=('https://github.com/lechipman/watershed-project/'\n",
    "                     'releases/download/v2.0.0/highway93_lidar.zip')\n",
    "applevalley_lidar_url=('https://github.com/lechipman/watershed-project/'\n",
    "                       'releases/download/v2.0.0/applevalley_lidar.zip')\n",
    "hallmeadows_lidar_url=('https://github.com/lechipman/watershed-project/'\n",
    "                       'releases/download/v2.0.0/hallmeadow_lidar.zip')\n",
    "#zip file names\n",
    "highway93_lidar_zip = 'highway93_lidar.zip'\n",
    "applevalley_lidar_zip = 'applevalley_lidar.zip'\n",
    "hallmeadows_lidar_zip = 'hallmeadow_lidar.zip'"
   ]
  },
  {
   "cell_type": "code",
   "execution_count": null,
   "id": "793e60cb",
   "metadata": {},
   "outputs": [],
   "source": [
    "# Function to download and load dtm as data array\n",
    "def load_uav_dtm(data_url, site_name, file_name):\n",
    "    \"\"\"Creates DataArray of Elevation Model Data\n",
    "    \n",
    "    Parameters\n",
    "    ----------\n",
    "    data_url: str\n",
    "        Url to the desired data.\n",
    "    data_name: str\n",
    "        The name of the data.\n",
    "        \n",
    "    Returns\n",
    "    ---------\n",
    "    dtm : dataarray\n",
    "        A dataarray of the elevation model.\n",
    "\n",
    "    \"\"\"\n",
    "    \n",
    "    override_cache = False\n",
    "    data_dir = site_name\n",
    "    data_path = os.path.join(data_dir, file_name)\n",
    "    \n",
    "    # Cache data file\n",
    "    if not os.path.exists(data_dir):\n",
    "        print('{} does not exist. Creating...'.format(data_dir))\n",
    "        os.makedirs(data_dir)\n",
    "\n",
    "    if (not os.path.exists(data_path)) or override_cache:\n",
    "        print('{} does not exist. Downloading...'.format(data_path))\n",
    "        # Download full data file as zipfile\n",
    "        response = requests.get(data_url)\n",
    "\n",
    "        # Write in respose content using context manager\n",
    "        with open(data_path, 'wb') as data_file:\n",
    "            data_file.write(response.content)\n",
    "            \n",
    "    # If zip file, decompress\n",
    "    if '.zip' in file_name:\n",
    "        with zipfile.ZipFile(data_path, 'r') as lidar_zipfile:\n",
    "            lidar_zipfile.extractall(data_dir)\n",
    "            \n",
    "    # Open and plot the UAV DTMs\n",
    "    try:\n",
    "        dtm = rxr.open_rasterio(data_path, masked=True)\n",
    "        return dtm\n",
    "    except:\n",
    "        print('file type not supported, open lidar dtm in next step')"
   ]
  },
  {
   "cell_type": "code",
   "execution_count": null,
   "id": "13d05d87",
   "metadata": {},
   "outputs": [],
   "source": [
    "#load_uav_dtm(data_url=highway93_lidar_url, \n",
    " #        site_name='highway93',\n",
    "  #       file_name=highway93_lidar_zip)"
   ]
  },
  {
   "cell_type": "code",
   "execution_count": null,
   "id": "aa1d70d1",
   "metadata": {},
   "outputs": [],
   "source": [
    "applevalley_zip_path = os.path.join('applevalley', 'applevalley_lidar.zip')\n",
    "#How to extract zip without root directory in filenames??\n",
    "with zipfile.ZipFile(applevalley_zip_path, 'r') as archive:\n",
    "            archive.printdir()\n",
    "#applevalley_lidar_zip_path=os.path.join('applevalley', applevalley_lidar_zip)\n",
    "#with zipfile.ZipFile(applevalley_lidar_zip_path, 'r') as lidar_zipfile:\n",
    " #           lidar_zipfile.extractall(zip_location)"
   ]
  },
  {
   "cell_type": "markdown",
   "id": "d86486b2",
   "metadata": {},
   "source": [
    "## Using unzipped files uploaded to github\n",
    "easies solution for now, but look into unzipping issue"
   ]
  },
  {
   "cell_type": "code",
   "execution_count": null,
   "id": "7ae1b282",
   "metadata": {},
   "outputs": [],
   "source": [
    "# urls to lidar dtms and projections\n",
    "applevalley_lidar_dtm_url = ('https://github.com/lechipman/watershed-project/'\n",
    "                             'releases/download/v2.0.0/applevalley_lidar.asc')\n",
    "applevalley_lidar_prj_url = ('https://github.com/lechipman/watershed-project/'\n",
    "                             'releases/download/v2.0.0/applevalley_lidar.prj')\n",
    "hallmeadows_lidar_dtm_url = ('https://github.com/lechipman/watershed-project/'\n",
    "                             'releases/download/v2.0.0/hallmeadow_lidar.asc')\n",
    "hallmeadows_lidar_prj_url = ('https://github.com/lechipman/watershed-project/'\n",
    "                             'releases/download/v2.0.0/hallmeadow_lidar.prj')\n",
    "highway93_lidar_dtm_url = ('https://github.com/lechipman/watershed-project/'\n",
    "                           'releases/download/v2.0.0/highway93_lidar.asc')\n",
    "highway93_lidar_prj_url = ('https://github.com/lechipman/watershed-project/'\n",
    "                           'releases/download/v2.0.0/highway93_lidar.prj')"
   ]
  },
  {
   "cell_type": "code",
   "execution_count": null,
   "id": "4d549b76",
   "metadata": {},
   "outputs": [],
   "source": [
    "# Function to download and load lidar dtm as data array\n",
    "def load_lidar_dtm(dtm_url, prj_url, site_name, dtm_file_name, prj_file_name):\n",
    "    \"\"\"Creates DataArray of Elevation Model Data\n",
    "    \n",
    "    Parameters\n",
    "    ----------\n",
    "    data_url: str\n",
    "        Url to the desired data.\n",
    "    data_name: str\n",
    "        The name of the data.\n",
    "        \n",
    "    Returns\n",
    "    ---------\n",
    "    dtm : dataarray\n",
    "        A dataarray of the elevation model.\n",
    "\n",
    "    \"\"\"\n",
    "    \n",
    "    override_cache = False\n",
    "    data_dir = os.path.join(site_name, '{}_lidar'.format(site_name))\n",
    "    dtm_data_path = os.path.join(data_dir, dtm_file_name)\n",
    "    prj_data_path = os.path.join(data_dir, prj_file_name)\n",
    "    \n",
    "    # Cache data file - dtm adn prj files\n",
    "    if not os.path.exists(data_dir):\n",
    "        print('{} does not exist. Creating...'.format(data_dir))\n",
    "        os.makedirs(data_dir)\n",
    "\n",
    "    if (not os.path.exists(dtm_data_path)) or override_cache:\n",
    "        print('{} does not exist. Downloading...'.format(dtm_data_path))\n",
    "        # Download full data file as zipfile\n",
    "        response = requests.get(dtm_url)\n",
    "\n",
    "        # Write in respose content using context manager\n",
    "        with open(dtm_data_path, 'wb') as data_file:\n",
    "            data_file.write(response.content)\n",
    "            \n",
    "    if (not os.path.exists(prj_data_path)) or override_cache:\n",
    "        print('{} does not exist. Downloading...'.format(prj_data_path))\n",
    "        # Download full data file as zipfile\n",
    "        response = requests.get(prj_url)\n",
    "\n",
    "        # Write in respose content using context manager\n",
    "        with open(prj_data_path, 'wb') as data_file:\n",
    "            data_file.write(response.content)\n",
    "                       \n",
    "    # Open the LiDAR DTMs\n",
    "    try:\n",
    "        dtm = rxr.open_rasterio(dtm_data_path, masked=True)\n",
    "        return dtm\n",
    "    except:\n",
    "        print('file type not supported, open lidar dtm in next step')"
   ]
  },
  {
   "cell_type": "code",
   "execution_count": null,
   "id": "1ca8041c",
   "metadata": {},
   "outputs": [],
   "source": [
    "# create lidar dtms\n",
    "applevalley_lidar_dtm = load_lidar_dtm(dtm_url = applevalley_lidar_dtm_url,\n",
    "                                 prj_url = applevalley_lidar_prj_url, \n",
    "                                 site_name = 'applevalley', \n",
    "                                 dtm_file_name = 'applevalley_lidar.asc', \n",
    "                                 prj_file_name = 'applevalley_lidar.prj')\n",
    "hallmeadows_lidar_dtm = load_lidar_dtm(dtm_url = hallmeadows_lidar_dtm_url,\n",
    "                                 prj_url = hallmeadows_lidar_prj_url, \n",
    "                                 site_name = 'hallmeadows', \n",
    "                                 dtm_file_name = 'hallmeadows_lidar.asc', \n",
    "                                 prj_file_name = 'hallmeadows_lidar.prj')\n",
    "highway93_lidar_dtm = load_lidar_dtm(dtm_url = highway93_lidar_dtm_url,\n",
    "                                 prj_url = highway93_lidar_prj_url, \n",
    "                                 site_name = 'highway93', \n",
    "                                 dtm_file_name = 'highway93_lidar.asc', \n",
    "                                 prj_file_name = 'highway93_lidar.prj')"
   ]
  },
  {
   "cell_type": "code",
   "execution_count": null,
   "id": "f369269e",
   "metadata": {},
   "outputs": [],
   "source": [
    "applevalley_lidar_dtm.rio.crs, hallmeadows_lidar_dtm.rio.crs, highway93_lidar_dtm.rio.crs"
   ]
  },
  {
   "cell_type": "markdown",
   "id": "563929a2",
   "metadata": {},
   "source": [
    "# Load the UAV DTMs and REMs"
   ]
  },
  {
   "cell_type": "code",
   "execution_count": null,
   "id": "1fcd26a7",
   "metadata": {},
   "outputs": [],
   "source": [
    "# Define urls to UAV DTMs and REMs (saved on zenodo)\n",
    "# make into function\n",
    "highway93_dtm_url = ('https://zenodo.org/record/8218054/files/'\n",
    "                     'highway93_uav_dtm.tif?download=1')\n",
    "highway93_rem_url = ('https://zenodo.org/record/8218054/files/'\n",
    "                     'highway93_uav_rem.tif?download=1')\n",
    "applevalley_dtm_url = ('https://zenodo.org/record/8218054/files/'\n",
    "                       'applevalley_uav_dtm.tif?download=1')\n",
    "applevalley_rem_url = ('https://zenodo.org/record/8218054/files/'\n",
    "                       'applevalley_uav_rem.tif?download=1')\n",
    "hallmeadows_dtm_url = ('https://zenodo.org/record/8218054/files/'\n",
    "                       'hallmeadows_uav_dtm.tif?download=1')\n",
    "hallmeadows_rem_url = ('https://zenodo.org/record/8218054/files/'\n",
    "                       'hallmeadows_uav_rem.tif?download=1')"
   ]
  },
  {
   "cell_type": "code",
   "execution_count": null,
   "id": "b25bc04a",
   "metadata": {},
   "outputs": [],
   "source": [
    "# Load dataarrays for UAV-derived dtms and rems and lidar rems\n",
    "highway93_uav_dtm = load_uav_dtm(data_url = highway93_dtm_url, \n",
    "                          site_name = 'highway93',\n",
    "                          file_name = 'highway93_dtm.tif')\n",
    "applevalley_uav_dtm = load_uav_dtm(data_url = applevalley_dtm_url, \n",
    "                          site_name = 'applevalley',\n",
    "                          file_name = 'applevalley_dtm.tif')\n",
    "hallmeadows_uav_dtm = load_uav_dtm(data_url = hallmeadows_dtm_url, \n",
    "                          site_name = 'hallmeadows',\n",
    "                          file_name = 'hallmeadows_dtm.tif')\n",
    "highway93_uav_rem = load_uav_dtm(data_url = highway93_rem_url, \n",
    "                          site_name = 'highway93',\n",
    "                          file_name = 'highway93_rem.tif')\n",
    "applevalley_uav_rem = load_uav_dtm(data_url = applevalley_rem_url, \n",
    "                          site_name = 'applevalley',\n",
    "                          file_name = 'applevalley_rem.tif')\n",
    "hallmeadows_uav_rem = load_uav_dtm(data_url = hallmeadows_rem_url, \n",
    "                          site_name = 'hallmeadows',\n",
    "                          file_name = 'hallmeadows_rem.tif')"
   ]
  },
  {
   "cell_type": "markdown",
   "id": "1f879a0a",
   "metadata": {},
   "source": [
    "## Reproject_match LiDAR to UAV DTM\n",
    "this step is necessary to clip the lidar dtm to the extent of the uav rem; it also reprojects and matches the resolution, however, this makes the size larger due to higher resolution of the uav dtm and thus slower processing. another option is to make a shapefile of the uav rem, upload to git and zenodo, and cliup to that, but this introduces another upload.other questions:\n",
    "1) how to write to raster - running into error driver nto found\n",
    "2) speeding up plots/reducing file size?\n",
    "3) another issue I came across is that for the hallmeadows site, the AOI overlaps 2 tiles - is there a way to combine the 2 lidar rasters into one, then clip to AOI? "
   ]
  },
  {
   "cell_type": "code",
   "execution_count": null,
   "id": "8a534882",
   "metadata": {},
   "outputs": [],
   "source": [
    "def reproject_match_lidar(site_uav_rem, lidar_dtm, site_name):\n",
    "    \"\"\"\n",
    "    Loads the lidar DTM, reprojects and matches the resolution and boundary of the UAV REM. \n",
    "    Saves as a tif file for use in RiverREM\n",
    "    \n",
    "    Parameters\n",
    "    ------------   \n",
    "    site_uav_rem: dataarray\n",
    "        The rem to reproject and match to.\n",
    "\n",
    "    lidar_dtm: dataarray\n",
    "        The LiDAR dtm to reproject and match.\n",
    "        \n",
    "    Returns\n",
    "    -------\n",
    "    lidar_dtm_match: dataarray.\n",
    "        The processed lidar dtm.\n",
    "    \"\"\"\n",
    "\n",
    "    data_dir = os.path.join(site_name, '{}_lidar'.format(site_name))\n",
    "    \n",
    "    # Reproject/match lidar DTM to UAV REM\n",
    "    lidar_dtm_match = lidar_dtm.rio.reproject_match(site_uav_rem)\n",
    "    \n",
    "    # Save the clipped lidar dtm as raster for use in RiverREM\n",
    "   # lidar_dtm_match.rio.to_raster(data_dir, (\"{}_lidar_dtm_clipped.tif\").format(site_name))\n",
    "    \n",
    "    return lidar_dtm_match"
   ]
  },
  {
   "cell_type": "code",
   "execution_count": null,
   "id": "84089d21",
   "metadata": {},
   "outputs": [],
   "source": [
    "hallmeadows_lidar_dtm_match = reproject_match_lidar(site_uav_rem = hallmeadows_uav_rem,\n",
    "                                                    lidar_dtm = hallmeadows_lidar_dtm, \n",
    "                                                    site_name = 'hallmeadows')\n",
    "applevalley_lidar_dtm_match = reproject_match_lidar(site_uav_rem = applevalley_uav_rem,\n",
    "                                                    lidar_dtm = applevalley_lidar_dtm, \n",
    "                                                    site_name = 'applevalley')\n",
    "highway93_lidar_dtm_match = reproject_match_lidar(site_uav_rem = highway93_uav_rem,\n",
    "                                                    lidar_dtm = highway93_lidar_dtm, \n",
    "                                                    site_name = 'highway93')"
   ]
  },
  {
   "cell_type": "markdown",
   "id": "039261c1",
   "metadata": {},
   "source": [
    "## LiDAR and UAV DTM histograms"
   ]
  },
  {
   "cell_type": "code",
   "execution_count": null,
   "id": "0385ba24",
   "metadata": {},
   "outputs": [],
   "source": [
    "all_dtm_list = (highway93_uav_dtm, applevalley_uav_dtm, hallmeadows_uav_dtm, \n",
    "                highway93_lidar_dtm_match, applevalley_lidar_dtm_match, \n",
    "                hallmeadows_lidar_dtm_match)\n",
    "# Call function to plot histogram of UAV REMs\n",
    "fig, axes = plt.subplots(2, 3, figsize=(10, 6))\n",
    "plot_title = ['Highway93-UAV', \n",
    "              'Apple Valley-UAV', \n",
    "              'Hall Meadows-UAV',\n",
    "              'Highway93-LiDAR', \n",
    "              'Apple Valley-LiDAR', \n",
    "              'Hall Meadows-LiDAR']\n",
    "\n",
    "for i, axe in enumerate(axes.flatten()):\n",
    "    plot_hists(model=all_dtm_list[i], \n",
    "               titles=plot_title[i],\n",
    "               main_title='UAV and LiDAR DTM Histograms',\n",
    "               color=('cyan'),\n",
    "               fig=fig,\n",
    "               ax=axe)"
   ]
  },
  {
   "cell_type": "code",
   "execution_count": null,
   "id": "16802fb4",
   "metadata": {},
   "outputs": [],
   "source": [
    "# Run the process lidar function to create a lidar-derived DTM for each site\n",
    "site_names = ('highway93', 'applevalley', 'hallmeadows')\n",
    "\n",
    "# try using locals\n",
    "#lidar_dtm_list = []\n",
    "#for site in site_names:\n",
    " #   processed_lidar_dtm = reproject_match_lidar(site_uav_rem, lidar_path, lidar_crs, name)\n",
    "    #lidar_dtm_list.append(lidar_rem)\n",
    "    "
   ]
  },
  {
   "cell_type": "markdown",
   "id": "630117bc",
   "metadata": {},
   "source": [
    "## LiDAR DTM Plots"
   ]
  },
  {
   "cell_type": "code",
   "execution_count": null,
   "id": "d2a69bf6",
   "metadata": {},
   "outputs": [],
   "source": [
    "# Define plot space with x subplots\n",
    "fig, axes = plt.subplots(3, 1, figsize=(12, 12))\n",
    "\n",
    "# List of site names to pass to function for title\n",
    "plot_titles = ('Highway 93', 'Apple Valley', 'Hall Meadows')\n",
    "\n",
    "# List of dtms to pass to function\n",
    "lidar_dtm_list = (applevalley_lidar_dtm_match, \n",
    "                  hallmeadows_lidar_dtm_match, \n",
    "                  highway93_lidar_dtm_match)\n",
    "\n",
    "# Call plot function\n",
    "for i, axe in enumerate(axes.flatten()):\n",
    "    plot_model(\n",
    "        model=lidar_dtm_list[i],\n",
    "        title=plot_titles[i],\n",
    "        coarsen=(True, True, True),\n",
    "        ax=axe)"
   ]
  },
  {
   "cell_type": "markdown",
   "id": "d2031523",
   "metadata": {},
   "source": [
    "# Create LiDAR REMs Using REMMaker Tool"
   ]
  },
  {
   "cell_type": "code",
   "execution_count": null,
   "id": "7995e4f3",
   "metadata": {},
   "outputs": [],
   "source": [
    "def run_rem_maker(name, k=100):\n",
    "    \"\"\"Run the REMMaker tool\"\"\"\n",
    "    \n",
    "    # Input the DTM file path and desired output directory\n",
    "    override_cache = False\n",
    "    lidar_dtm_path = os.path.join(('LiDAR_DTM_{}.tif').format(name))\n",
    "    lidar_out_path = os.path.join(lidar_dir, ('lidar_{}').format(name))\n",
    "    lidar_rem_path = os.path.join(lidar_out_path, \n",
    "                                  ('LiDAR_DTM_{}_REM.tif').format(name))\n",
    "\n",
    "    # Run the REMMaker if the path to the REM does not already exist\n",
    "    if (not os.path.exists(lidar_rem_path)) or override_cache:\n",
    "        rem_maker = REMMaker(dem=lidar_dtm_path, \n",
    "                             out_dir=lidar_out_path, \n",
    "                             interp_pts=1000, \n",
    "                             k=100)\n",
    "\n",
    "        # clear OSM cache\n",
    "        clear_osm_cache()\n",
    "\n",
    "        # create an REM\n",
    "        rem_maker.make_rem()\n",
    "\n",
    "        # create an REM visualization with the given colormap\n",
    "        rem_maker.make_rem_viz(cmap='mako_r')\n",
    "\n",
    "    else:\n",
    "        print('The REM already exists. Not running REMMaker')"
   ]
  },
  {
   "cell_type": "code",
   "execution_count": null,
   "id": "f5812bed",
   "metadata": {},
   "outputs": [],
   "source": [
    "# Create REM for all sites with run_rem_maker function\n",
    "site_names = ('highway93', 'applevalley', 'hallmeadows')\n",
    "lidar_rem_list = []\n",
    "\n",
    "for site in site_names:\n",
    "    run_rem_maker(name=site)\n",
    "    lidar_rem_path = os.path.join(lidar_dir,\n",
    "                                  ('lidar_{}').format(site),\n",
    "                                  ('LiDAR_DTM_{}_REM.tif').format(site))\n",
    "    lidar_rem = rxr.open_rasterio(lidar_rem_path, masked=True)    \n",
    "    lidar_rem_list.append(lidar_rem)"
   ]
  },
  {
   "cell_type": "markdown",
   "id": "8e52d91f",
   "metadata": {},
   "source": [
    "# Plot the UAV and LiDAR Derived REMs"
   ]
  },
  {
   "cell_type": "code",
   "execution_count": null,
   "id": "6beb6505",
   "metadata": {},
   "outputs": [],
   "source": [
    "# Plot the REMs\n",
    "# Define plot space with x subplots\n",
    "fig, axes = plt.subplots(3, 2, figsize=(12, 14))\n",
    "\n",
    "# List of site names to pass to function for titles\n",
    "plot_title = ('UAV-Derived REM for Highway 93', \n",
    "              'UAV-Derived REM for Apple Valley', \n",
    "              'UAV-Derived REM for Hall Meadows',\n",
    "              'LiDAR-Derived REM for Highway 93', \n",
    "              'LiDAR-Derived REM for Apple Valley', \n",
    "              'LiDAR-Derived REM for Hall Meadows')\n",
    "\n",
    "# List of REMs to pass to plot function\n",
    "all_rem_list = (uav_rem_list + lidar_rem_list)\n",
    "\n",
    "# Call plot function\n",
    "for i, axe in enumerate(axes.flatten()):\n",
    "    plot_models(\n",
    "        model=all_rem_list[i],\n",
    "        title=plot_title[i],\n",
    "        coarsen=(True, True, True, False, False, False),\n",
    "        ax=axe)\n",
    "# Note - I increased value of k in the REMMAker and streaking improved!!\n",
    "# \"param k: number of nearest neighbors to use for IDW interpolation. If None, an appropriate value is estimated.\n",
    "#  The estimation routine uses k between 5-100 points (0.5-10% of the river length) depending on the\n",
    "#  sinuosity of the river of interest. Greater values of k are used for more sinuous rivers.\"\""
   ]
  }
 ],
 "metadata": {
  "kernelspec": {
   "display_name": "Python 3 (ipykernel)",
   "language": "python",
   "name": "python3"
  },
  "language_info": {
   "codemirror_mode": {
    "name": "ipython",
    "version": 3
   },
   "file_extension": ".py",
   "mimetype": "text/x-python",
   "name": "python",
   "nbconvert_exporter": "python",
   "pygments_lexer": "ipython3",
   "version": "3.10.10"
  },
  "varInspector": {
   "cols": {
    "lenName": 16,
    "lenType": 16,
    "lenVar": 40
   },
   "kernels_config": {
    "python": {
     "delete_cmd_postfix": "",
     "delete_cmd_prefix": "del ",
     "library": "var_list.py",
     "varRefreshCmd": "print(var_dic_list())"
    },
    "r": {
     "delete_cmd_postfix": ") ",
     "delete_cmd_prefix": "rm(",
     "library": "var_list.r",
     "varRefreshCmd": "cat(var_dic_list()) "
    }
   },
   "types_to_exclude": [
    "module",
    "function",
    "builtin_function_or_method",
    "instance",
    "_Feature"
   ],
   "window_display": false
  }
 },
 "nbformat": 4,
 "nbformat_minor": 5
}
