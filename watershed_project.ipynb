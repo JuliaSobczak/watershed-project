{
 "cells": [
  {
   "cell_type": "markdown",
   "id": "addda2eb-339d-4452-aff3-92c63c95c041",
   "metadata": {
    "tags": []
   },
   "source": [
    "# Watershed Project - Mapping Floodplain Connectivity in Boulder County\n",
    "![Watershed Project](https://upload.wikimedia.org/wikipedia/commons/thumb/4/4c/South_Boulder_Creek_%28Colorado%29.JPG/1920px-South_Boulder_Creek_%28Colorado%29.JPG)\n",
    "\n",
    "*Img source: 1*"
   ]
  },
  {
   "cell_type": "markdown",
   "id": "16c1211f-de7d-40ab-a69b-de7258473946",
   "metadata": {},
   "source": [
    "## Collaborators and Acknowledgements\n",
    "Julia Sobczak, Lindsay Chipman, Matthew Bitters, and the [Watershed Center](https://watershed.center/)\n",
    "\n",
    "Spring project for the University of Colorado Earth Data Analytics program, [Earth Lab](https://www.earthdatascience.org/)\n",
    "\n",
    "## Project Description\n",
    "\n",
    "### Background and Project Goals\n",
    "A connected, functional floodplain retains water during periods of high flow and releases it back into the stream when flows are low. This process increases the resiliency and biodiversity of floodplain vegetation by providing a higher water table and thus longer, easier access to potentially limiting resources. Deposition by flooding events can increase water quality by 'dropping' harmful heavy metals or high nutrient loads onto the floodplain, keeping them from continuing downstream (2). Unfortunately, due to urban development and agriculture, floodplains can become disconnected from their source river. Reduced connectivity results in greater magnitude of flood events and vulnerability of surrounding ecosystems to drought.  Therefore, understanding connectivity can help guide water resource management and strengthen communities against natural disasters. \n",
    "\n",
    "![Disconnected floodplain](https://www.mdpi.com/water/water-12-02762/article_deploy/html/images/water-12-02762-g001-550.jpg)\n",
    "*Img source: 2*\n",
    "\n",
    "Through this project, we aim to map floodplain connectivity at 5 target sites in the St. Vrain Basin in Boulder, CO and use the results to evaluate if desired watershed conditions are being met. We will also compare the results between UAV or LiDAR derived data, to see which performs better in terms of quantifying floodplain connectivity. Our aim is to create an open and reproducible workflow for The Watershed Center and other researchers to use for future analysis.\n",
    "\n",
    "### Methods\n",
    "We will use two types of data:\n",
    "* UAV imagery (to process in Agisoft and create DTM), source: DJI Phantom 4, collected by contractor in Spring & Fall 2022\n",
    "* LiDAR data (downloaded as LAS and DTM), source: [Colorado Hazard Mapping, Airborne Snow Observatories](https://coloradohazardmapping.com/lidarDownload)\n",
    "\n",
    "For each of these datasets, we will create digital elevation models (DEM), and digital terrain models (DTM; DEM with vegetation removed) for each site using Agisoft Metashape Professional v1.8.5. We will then create relative elevation models for the five DTM's with two different methods: the first of which follows the watershed center's protocol relying on the Colorado Water Conservation Board’s REM Generator Tool in ArcMap, the second uses the RiverREM package to generate a relative elevation model for each site with each data source (UAV and LiDAR)\n",
    "\n",
    "Elevation models are a core component of modern-day floodplain mapping. High-accuracy DEM's are necessary to sufficiently predict how water will flood an area based on the surface slope and topography (3). Elevation models are digital grids with an elevation value assigned to each square; a low-resolution DEM has fewer and larger squares while a high-resolution DEM has many smaller square. REM's and DTM's (bare earth models) are derivative products from a DEM, so they'll all have the same resolution unless down-sampling occurs. For this reason, it's important to obtain a high-quality DEM before attempting any complex processing tasks in order to accurately predict flooding events and impacts.\n",
    "\n",
    "![DEM grids](https://ars.els-cdn.com/content/image/1-s2.0-S0016706100000811-gr2.gif)\n",
    "*Img source: 4*\n",
    "\n",
    "Our end products include a REM and histogram for each of the 5 sites, created from both UAV- and LiDAR-derived data as well as a qualitative and quantitative comparison between the two data sources to suggest which method is best for The Watershed Center to use for future floodplain mapping. Ultimately, we hope to replicate the existing, software-reliant process using python tools to create an open and reproducible workflow for generating REM's.\n",
    "\n",
    "### This Notebook\n",
    "In this notebook, we plot the study sites and generate a preliminary REM using a pre-processed DTM from the Highway 93 site and the REMMaker function. Please ensure the [RiverREM package](https://github.com/OpenTopography/RiverREM) is downloaded on your computer before running the REMMaker tool, see the readme file for download instructions. The DTM was created by processing UAV-derived images in Agisoft (this step was completed by the Watershed Center). We loaded this DTM to a GitHub release to allow the user of this notebook to download it. We also provide a  shapefile of the centerline of the River at the study site, which was genereated in ArcGIS. \n",
    "\n",
    "![RiverREM](https://object.cloud.sdsc.edu/v1/AUTH_opentopography/www/docs/REMBlogPost/birch_crop.png)\n",
    "*Img source: 5*\n",
    "\n",
    "### Sources\n",
    "1. Wikimedia Foundation. (2022, September 4). South Boulder creek (Colorado). Wikipedia. https://en.wikipedia.org/wiki/South_Boulder_Creek_(Colorado)\n",
    "2. Gordon, B.A.; Dorothy, O.; Lenhart, C.F. Nutrient Retention in Ecologically Functional Floodplains: A Review. Water 2020, 12, 2762. https://doi.org/10.3390/w12102762\n",
    "3. Hawker, L., Bates, P., Neal, J., &amp; Rougier, J. (2018, November 30). Perspectives on Digital Elevation Model (DEM) simulation for flood modeling in the absence of a high-accuracy open access global dem. Frontiers. https://www.frontiersin.org/articles/10.3389/feart.2018.00233/full \n",
    "4. Thompson, J. A., Bell, J. C., &amp; Butler, C. A. (2001, February 5). Digital elevation model resolution: Effects on terrain attribute calculation and quantitative soil-landscape modeling. ScienceDirect. https://www.sciencedirect.com/science/article/pii/S0016706100000811 \n",
    "5. Larrieu, K. (2022). RiverREM (Version 1.0.4) [OpenTopography; GitHub]. https://github.com/OpenTopography/RiverREM"
   ]
  },
  {
   "cell_type": "code",
   "execution_count": 2,
   "id": "86ed8972",
   "metadata": {
    "tags": []
   },
   "outputs": [
    {
     "ename": "ValueError",
     "evalue": "                                                                                     <<<<<<< HEAD\ndate                                             lat         lon         ele                 name\nFall 2022                                        40.23816797 -105.289055 1662.681641      AV GCP7\n                                                 39.92540496 -105.227329 1768.123169    HW93 GCP9\n                                                 40.12820302 -105.299543 1730.303955    LEG1-GCP9\n>>>>>>> f36490b1af2523c43734b7bce5967df04d32ec79 NaN         NaN         NaN                  NaN",
     "output_type": "error",
     "traceback": [
      "\u001b[1;31m---------------------------------------------------------------------------\u001b[0m",
      "\u001b[1;31mValueError\u001b[0m                                Traceback (most recent call last)",
      "Cell \u001b[1;32mIn [2], line 7\u001b[0m\n\u001b[0;32m      4\u001b[0m \u001b[38;5;28;01mimport\u001b[39;00m \u001b[38;5;21;01mpathlib\u001b[39;00m\n\u001b[0;32m      6\u001b[0m \u001b[38;5;28;01mimport\u001b[39;00m \u001b[38;5;21;01mmatplotlib\u001b[39;00m\u001b[38;5;21;01m.\u001b[39;00m\u001b[38;5;21;01mpyplot\u001b[39;00m \u001b[38;5;28;01mas\u001b[39;00m \u001b[38;5;21;01mplt\u001b[39;00m\n\u001b[1;32m----> 7\u001b[0m \u001b[38;5;28;01mfrom\u001b[39;00m \u001b[38;5;21;01mplot_site_map\u001b[39;00m \u001b[38;5;28;01mimport\u001b[39;00m plot_sites\n\u001b[0;32m      8\u001b[0m \u001b[38;5;28;01mimport\u001b[39;00m \u001b[38;5;21;01mrequests\u001b[39;00m\n\u001b[0;32m      9\u001b[0m \u001b[38;5;28;01mfrom\u001b[39;00m \u001b[38;5;21;01mriverrem\u001b[39;00m\u001b[38;5;21;01m.\u001b[39;00m\u001b[38;5;21;01mREMMaker\u001b[39;00m \u001b[38;5;28;01mimport\u001b[39;00m REMMaker, clear_osm_cache\n",
      "File \u001b[1;32m~\\earth-analytics\\2023_Spring\\watershed-project\\plot_site_map.py:45\u001b[0m\n\u001b[0;32m     43\u001b[0m \u001b[38;5;66;03m# Select one location from each site to map\u001b[39;00m\n\u001b[0;32m     44\u001b[0m sites_short_df \u001b[38;5;241m=\u001b[39m sites_df\u001b[38;5;241m.\u001b[39miloc[[\u001b[38;5;241m0\u001b[39m,\u001b[38;5;241m7\u001b[39m,\u001b[38;5;241m17\u001b[39m,\u001b[38;5;241m29\u001b[39m, \u001b[38;5;241m-\u001b[39m\u001b[38;5;241m1\u001b[39m]]\n\u001b[1;32m---> 45\u001b[0m \u001b[38;5;28;01mraise\u001b[39;00m \u001b[38;5;167;01mValueError\u001b[39;00m(sites_short_df)\n\u001b[0;32m     47\u001b[0m \u001b[38;5;66;03m# Create gdf of study sites\u001b[39;00m\n\u001b[0;32m     48\u001b[0m sites_gdf \u001b[38;5;241m=\u001b[39m gpd\u001b[38;5;241m.\u001b[39mGeoDataFrame(\n\u001b[0;32m     49\u001b[0m     sites_short_df,\n\u001b[0;32m     50\u001b[0m     geometry \u001b[38;5;241m=\u001b[39m gpd\u001b[38;5;241m.\u001b[39mpoints_from_xy(sites_short_df[\u001b[38;5;124m'\u001b[39m\u001b[38;5;124mlon\u001b[39m\u001b[38;5;124m'\u001b[39m],\n\u001b[0;32m     51\u001b[0m                                   sites_short_df[\u001b[38;5;124m'\u001b[39m\u001b[38;5;124mlat\u001b[39m\u001b[38;5;124m'\u001b[39m]),\n\u001b[0;32m     52\u001b[0m                                   crs \u001b[38;5;241m=\u001b[39m \u001b[38;5;124m'\u001b[39m\u001b[38;5;124mEPSG:4326\u001b[39m\u001b[38;5;124m'\u001b[39m)\n",
      "\u001b[1;31mValueError\u001b[0m:                                                                                      <<<<<<< HEAD\ndate                                             lat         lon         ele                 name\nFall 2022                                        40.23816797 -105.289055 1662.681641      AV GCP7\n                                                 39.92540496 -105.227329 1768.123169    HW93 GCP9\n                                                 40.12820302 -105.299543 1730.303955    LEG1-GCP9\n>>>>>>> f36490b1af2523c43734b7bce5967df04d32ec79 NaN         NaN         NaN                  NaN"
     ]
    }
   ],
   "source": [
    "# Import packages\n",
    "# Make sure you have RiverREM imported, check readme for instructions\n",
    "import os\n",
    "import pathlib\n",
    "\n",
    "import matplotlib.pyplot as plt\n",
    "from plot_site_map import plot_sites\n",
    "import requests\n",
    "from riverrem.REMMaker import REMMaker, clear_osm_cache\n",
    "import rioxarray as rxr"
   ]
  },
  {
   "cell_type": "code",
   "execution_count": null,
   "id": "dd535da4-7aa1-4e00-a26e-c140b17fc4c1",
   "metadata": {
    "tags": []
   },
   "outputs": [],
   "source": [
    "# Set working directory\n",
    "working_dir = os.path.join(\n",
    "    pathlib.Path.home(), 'earth-analytics', 'data', 'watershed-project')\n",
    "if not os.path.exists(working_dir):\n",
    "    print('{} does not exist. Creating...'.format(working_dir))\n",
    "    os.makedirs(working_dir)\n",
    "\n",
    "os.chdir(working_dir)"
   ]
  },
  {
   "cell_type": "markdown",
   "id": "fc268b35",
   "metadata": {},
   "source": [
    "# Study Sites\n",
    "The study sites are five streams in the St. Vrain Watershed, Boulder County. For this notebook, only data from the Highway 93 site was used."
   ]
  },
  {
   "cell_type": "code",
   "execution_count": null,
   "id": "c952a16e",
   "metadata": {},
   "outputs": [],
   "source": [
    "# Plot the study sites - find related code in plot_site_map\n",
    "plot_sites()"
   ]
  },
  {
   "cell_type": "code",
   "execution_count": null,
   "id": "5d286b4c-83a3-477e-bcb6-1bc91bb3097f",
   "metadata": {
    "tags": []
   },
   "outputs": [],
   "source": [
    "# Define url, directory, and path to DTM\n",
    "hwy_93_url = (\"https://github.com/lechipman/watershed-project/releases\"\n",
    "              \"/download/v1.0.0/DTM_Highway93.tif\")\n",
    "dtm_dir = os.path.join('uav_hwy93')\n",
    "dtm_path = os.path.join(dtm_dir, 'DTM_Highway93.tif')"
   ]
  },
  {
   "cell_type": "code",
   "execution_count": null,
   "id": "481bdaed",
   "metadata": {},
   "outputs": [],
   "source": [
    "# Create directory and download DTM file if doesn't exist\n",
    "override_cache = False\n",
    "if not os.path.exists(dtm_dir):\n",
    "    print('{} does not exist. Creating...'.format(dtm_dir))\n",
    "    os.makedirs(dtm_dir)\n",
    "\n",
    "if (not os.path.exists(dtm_path)) or override_cache:\n",
    "    print('{} does not exist. Downloading...'.format(dtm_path))\n",
    "    # Opem DTM file\n",
    "    response = requests.get(hwy_93_url)\n",
    "\n",
    "    # Open a local file with wb permission and write response content\n",
    "    with open(dtm_path, 'wb') as dtm_file:\n",
    "        dtm_file.write(response.content)"
   ]
  },
  {
   "cell_type": "markdown",
   "id": "e186712a",
   "metadata": {},
   "source": [
    "# Highway 93 DTM (UAV-derived)"
   ]
  },
  {
   "cell_type": "code",
   "execution_count": null,
   "id": "d2be0eeb",
   "metadata": {},
   "outputs": [],
   "source": [
    "# Open and plot the DTM\n",
    "dtm = rxr.open_rasterio(dtm_path, masked=True)\n",
    "fig, ax = plt.subplots(1, 1, figsize=(10, 6))\n",
    "\n",
    "# Hide x and y axes labels and ticks\n",
    "ax.xaxis.set_tick_params(labelbottom=False)\n",
    "ax.yaxis.set_tick_params(labelleft=False)\n",
    "ax.set_xticks([])\n",
    "ax.set_yticks([])\n",
    "\n",
    "# Plot DTM\n",
    "dtm.coarsen(\n",
    "    x=3,\n",
    "    boundary='trim').mean().coarsen(\n",
    "        y=3,\n",
    "        boundary='trim').mean().squeeze().plot(\n",
    "            ax=ax)\n",
    "\n",
    "# Add title\n",
    "ax.set_title('DTM derived from UAV Imagery', fontsize=14)"
   ]
  },
  {
   "cell_type": "markdown",
   "id": "a901c59e",
   "metadata": {},
   "source": [
    "# Run REMMaker tool using DTM as input\n",
    "RiverREM is a Python package for automatically generating river relative elevation model (REM) visualizations from an input DTM. For this notebook, the tool uses the stream centerline default (taken from the rivers layer in OpenStreetMap), but in future iterations, we will use our own centerline shapefile to input as a parameter. This will allow for better comparison with the Watershed Center's current process which uses the same user-created centerline shapefile in ArcMap."
   ]
  },
  {
   "cell_type": "code",
   "execution_count": null,
   "id": "bf8f76b5",
   "metadata": {},
   "outputs": [],
   "source": [
    "# Run rem_maker without specified centerline\n",
    "# Input the DEM file path and desired output directory\n",
    "rem_maker = REMMaker(dem=dtm_path, out_dir=dtm_dir, interp_pts=1000)\n",
    "\n",
    "# clear OSM cache\n",
    "clear_osm_cache()\n",
    "\n",
    "# create an REM\n",
    "rem_maker.make_rem()\n",
    "# create an REM visualization with the given colormap\n",
    "rem_maker.make_rem_viz(cmap='mako_r')"
   ]
  },
  {
   "cell_type": "markdown",
   "id": "b429e929",
   "metadata": {},
   "source": [
    "# Output Highway 93 REM\n",
    "We are noticing some streaks in the image, perpendicular to the river channel, which may indicate poor interpolation and needs further investigation."
   ]
  },
  {
   "cell_type": "code",
   "execution_count": null,
   "id": "97f12946",
   "metadata": {
    "scrolled": true
   },
   "outputs": [],
   "source": [
    "# Open and plot the REM you just generated\n",
    "rem_path = os.path.join(dtm_dir, 'DTM_Highway93_REM.tif')\n",
    "rem = rxr.open_rasterio(rem_path, masked=True)\n",
    "\n",
    "fig, ax = plt.subplots(1, 1, figsize=(10, 6))\n",
    "\n",
    "# Hide x and y axes labels and ticks\n",
    "ax.xaxis.set_tick_params(labelbottom=False)\n",
    "ax.yaxis.set_tick_params(labelleft=False)\n",
    "ax.set_xticks([])\n",
    "ax.set_yticks([])\n",
    "\n",
    "# Plot REM\n",
    "rem.coarsen(\n",
    "    x=3,\n",
    "    boundary='trim').mean().coarsen(\n",
    "        y=3,\n",
    "        boundary='trim').mean().plot(\n",
    "            ax=ax)\n",
    "\n",
    "# Add title\n",
    "ax.set_title('REM derived from UAV Imagery', fontsize=14)"
   ]
  },
  {
   "cell_type": "markdown",
   "id": "47354652",
   "metadata": {},
   "source": [
    "# REM Histogram\n",
    "The histogram indicates what elevations occur most frequently. A gently sloping curve (away from zero) may indicate better floodplain connectivity."
   ]
  },
  {
   "cell_type": "code",
   "execution_count": null,
   "id": "329303e8",
   "metadata": {},
   "outputs": [],
   "source": [
    "# Create REM histogram plot figure\n",
    "fig, ax = plt.subplots(figsize=(10, 6))\n",
    "rem.plot.hist(color=\"cyan\", bins=20)\n",
    "ax.set_title(\"Histogram of the REM Data\")\n",
    "plt.show()"
   ]
  }
 ],
 "metadata": {
  "kernelspec": {
   "display_name": "Python 3 (ipykernel)",
   "language": "python",
   "name": "python3"
  },
  "language_info": {
   "codemirror_mode": {
    "name": "ipython",
    "version": 3
   },
   "file_extension": ".py",
   "mimetype": "text/x-python",
   "name": "python",
   "nbconvert_exporter": "python",
   "pygments_lexer": "ipython3",
   "version": "3.8.13"
  },
  "varInspector": {
   "cols": {
    "lenName": 16,
    "lenType": 16,
    "lenVar": 40
   },
   "kernels_config": {
    "python": {
     "delete_cmd_postfix": "",
     "delete_cmd_prefix": "del ",
     "library": "var_list.py",
     "varRefreshCmd": "print(var_dic_list())"
    },
    "r": {
     "delete_cmd_postfix": ") ",
     "delete_cmd_prefix": "rm(",
     "library": "var_list.r",
     "varRefreshCmd": "cat(var_dic_list()) "
    }
   },
   "types_to_exclude": [
    "module",
    "function",
    "builtin_function_or_method",
    "instance",
    "_Feature"
   ],
   "window_display": false
  }
 },
 "nbformat": 4,
 "nbformat_minor": 5
}
