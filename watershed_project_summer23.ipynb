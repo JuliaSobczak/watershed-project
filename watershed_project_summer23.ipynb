{
 "cells": [
  {
   "cell_type": "markdown",
   "id": "d9fb310f",
   "metadata": {},
   "source": [
    "# How Low can you Flow- Analyzing Floodplain Connectivity in Boulder County\n",
    "![Watershed Project](https://upload.wikimedia.org/wikipedia/commons/thumb/4/4c/South_Boulder_Creek_%28Colorado%29.JPG/1920px-South_Boulder_Creek_%28Colorado%29.JPG)\n",
    "\n",
    "*Img source: \n",
    "Wikimedia Foundation. (2022, September 4). South Boulder creek (Colorado). Wikipedia. https://en.wikipedia.org/wiki/South_Boulder_Creek_(Colorado)\n",
    "\n",
    "### Collaborators and Acknowledgements\n",
    "Lindsay Chipman, Julia Sobczak, Matthew Bitters, and [The Watershed Center](https://watershed.center/)\n",
    "\n",
    "Final project for the University of Colorado Earth Data Analytics Professional Certificate, special thanks to the [Earth Lab](https://www.earthdatascience.org/) and Dr. Elsa Culler\n",
    "\n"
   ]
  },
  {
   "cell_type": "markdown",
   "id": "57b7047c",
   "metadata": {},
   "source": [
    "## What is \"floodplain connectivity\"?\n",
    "A **floodplain** is the area adjacent to a stream that becomes inundated with water when a flood occurs. This space allows the flood to \"spread out\" and release energy and suspended objects (such as sediment, logs, and branches). By reducing the flow of water down the stream corridor, floodplains effectively mitigate destruction to buildings and other infrastructure downstream. \n",
    "\n",
    "BUT this can only happen if the floodplain is \"available\" to the stream i.e., if the area around the stream is low enough to actually be affected when floodwaters appear. If a floodplain is situated above the highest flow of water, it will not be inundated with water and the floodplain will not act as it should - we call this a **disconnected** floodplain.\n",
    "\n",
    "\n",
    "In other words, a **connected** floodplain is an area near the stream that can accept floodwaters and act as a buffer to potentially dangerous flows down the stream corridor."
   ]
  },
  {
   "cell_type": "markdown",
   "id": "e9766fe2",
   "metadata": {},
   "source": [
    "## Floodplains save lives...and help ecosystems!\n",
    "When a stream overflows onto its floodplain, it aids ecosystem services that can help save lives and increase habitat resiliency to destructive flooding events.\n",
    "\n",
    "Floodplains...\n",
    "* Disperse the force of a flood, which reduces destruction to mand-made structures along the stream\n",
    "* Maintain water quality by reducing sediment/fine particles flowing downstream\n",
    "* Reduce erosion via plants and plant roots growing along the banks (encouraged by nutrients from floodwaters)\n",
    "* Create many paths for water to flow, like side channels and ponds\n",
    "* Capture higher levels of carbon due on the physical properties of wetland soil\n",
    "* Create a uniqe habitat for wetland plants and animals which help air-land-water interactions"
   ]
  },
  {
   "cell_type": "code",
   "execution_count": 1,
   "id": "88debb4f",
   "metadata": {},
   "outputs": [],
   "source": [
    "# Import packages\n",
    "# Make sure you have RiverREM imported, check readme for instructions\n",
    "import os\n",
    "import pathlib\n",
    "\n",
    "import matplotlib.pyplot as plt\n",
    "from load_plot_model import load_dtm, plot_model, plot_hist\n",
    "from riverrem.REMMaker import REMMaker, clear_osm_cache\n",
    "import requests\n",
    "import rioxarray as rxr"
   ]
  },
  {
   "cell_type": "code",
   "execution_count": 2,
   "id": "8f8b3c12",
   "metadata": {},
   "outputs": [
    {
     "name": "stdout",
     "output_type": "stream",
     "text": [
      "/Users/lchipman/earth-analytics/data/watershed-project is now the working directory\n"
     ]
    }
   ],
   "source": [
    "# Set working directory\n",
    "working_dir = os.path.join(\n",
    "    pathlib.Path.home(), 'earth-analytics', 'data', 'watershed-project')\n",
    "\n",
    "# Try/Except Block   \n",
    "try:\n",
    "    os.chdir(working_dir)\n",
    "except:\n",
    "    print('{} does not exist. Creating...'.format(working_dir))\n",
    "    os.makedirs(working_dir)\n",
    "    os.chdir(working_dir)\n",
    "else:\n",
    "    print('{} is now the working directory'.format(working_dir))"
   ]
  },
  {
   "cell_type": "markdown",
   "id": "688beae6",
   "metadata": {},
   "source": [
    "## Study Area: St. Vrain Watershed (Boulder, CO)\n",
    "Our study sites are located in the St. Vrain Watershed located in the northwest foothills of Colorado, USA. This is a heavily populated area (stats) with beautiful views and lots of opportunity for outdoor recreation including hiking, kayaking, and mountain biking. \n",
    "\n",
    "We analyzed five study sites in the St. Vrain Watershed (light blue): Apple Valley, Hall Meadows, Highway 93, Legacy 1, and Van Vleet."
   ]
  },
  {
   "cell_type": "code",
   "execution_count": null,
   "id": "29392626",
   "metadata": {},
   "outputs": [],
   "source": [
    "from plot_site_map import plot_sites, plot_sites_folium\n",
    "\n",
    "# Plot the study sites, method 2 - find related code in plot_site_map\n",
    "plot_sites_folium()"
   ]
  },
  {
   "cell_type": "markdown",
   "id": "01719cfb",
   "metadata": {},
   "source": [
    "# Using elevation models to evaluate floodplain connectivity\n",
    "\n",
    "A **Digital Terrain Model (DTM)** is a representation of the topographic surface of the Earth excluding trees, buildings, and any other surface objects. We obtained images of the study sites from drones or **Unmanned Aerial Vehicles (UAV)** that the Watershed Center flew in 2022. From these UAV images, we created DEMs using the software [Agisoft Metashape.](https://www.agisoft.com/), which performs photogrammetric processing of digital images to generate 3D spatial data. "
   ]
  },
  {
   "cell_type": "code",
   "execution_count": 3,
   "id": "80ecb530",
   "metadata": {},
   "outputs": [],
   "source": [
    "# Define urls for UAV model data downloads\n",
    "# Starting with hwy 93, but repeat with new sites as data is added\n",
    "highway93_dtm_url = ('https://zenodo.org/record/8218054/files/'\n",
    "                     'highway93_uav_dtm.tif?download=1')\n",
    "highway93_rem_url = ('https://zenodo.org/record/8218054/files/'\n",
    "                     'highway93_uav_rem.tif?download=1')\n",
    "applevalley_dtm_url = ('https://zenodo.org/record/8218054/files/'\n",
    "                       'applevalley_uav_dtm.tif?download=1')\n",
    "applevalley_rem_url = ('https://zenodo.org/record/8218054/files/'\n",
    "                       'applevalley_uav_rem.tif?download=1')\n",
    "hallmeadows_dtm_url = ('https://zenodo.org/record/8218054/files/'\n",
    "                       'hallmeadows_uav_dtm.tif?download=1')\n",
    "hallmeadows_rem_url = ('https://zenodo.org/record/8218054/files/'\n",
    "                       'hallmeadows_uav_rem.tif?download=1')\n",
    "\n",
    "# Create dataarrays of rems and dtms for 3 sites\n",
    "highway93_uav_dtm = load_dtm(data_url = highway93_dtm_url, \n",
    "                          site_name = 'highway93',\n",
    "                          file_name = 'highway93_dtm.tif')\n",
    "highway93_uav_rem = load_dtm(data_url = highway93_rem_url, \n",
    "                          site_name = 'highway93',\n",
    "                          file_name = 'highway93_rem.tif')\n",
    "applevalley_uav_dtm = load_dtm(data_url = applevalley_dtm_url, \n",
    "                          site_name = 'applevalley',\n",
    "                          file_name = 'applevalley_dtm.tif')\n",
    "applevalley_uav_rem = load_dtm(data_url = applevalley_rem_url, \n",
    "                          site_name = 'applevalley',\n",
    "                          file_name = 'applevalley_rem.tif')\n",
    "hallmeadows_uav_dtm = load_dtm(data_url = hallmeadows_dtm_url, \n",
    "                          site_name = 'hallmeadows',\n",
    "                          file_name = 'hallmeadows_dtm.tif')\n",
    "hallmeadows_uav_rem = load_dtm(data_url = hallmeadows_rem_url, \n",
    "                          site_name = 'hallmeadows',\n",
    "                          file_name = 'hallmeadows_rem.tif')"
   ]
  },
  {
   "cell_type": "code",
   "execution_count": 4,
   "id": "56fa46ba",
   "metadata": {},
   "outputs": [],
   "source": [
    "# Lists of UAV DTMs and REMs\n",
    "uav_dtm_list = [highway93_uav_dtm, \n",
    "                applevalley_uav_dtm, \n",
    "                hallmeadows_uav_dtm]\n",
    "\n",
    "uav_rem_list = [highway93_uav_rem, \n",
    "                applevalley_uav_rem, \n",
    "                hallmeadows_uav_rem]"
   ]
  },
  {
   "cell_type": "code",
   "execution_count": null,
   "id": "355bddb1",
   "metadata": {},
   "outputs": [],
   "source": [
    "# Plot example DTM - can add more sites, but takes a long time to run\n",
    "fig, ax = plt.subplots(1, 1, figsize=(10, 6))\n",
    "plot_model(model = applevalley_uav_dtm, \n",
    "           title = 'DTM of the Apple Valley Site', \n",
    "           coarsen = True,\n",
    "           ax =ax)"
   ]
  },
  {
   "cell_type": "markdown",
   "id": "d054a146",
   "metadata": {},
   "source": [
    "The image above shows an example of a **DTM** for the Apple Valley site. The color bar on the right shows the elevation in meters above sea level. The main channel is visible as the lowest elevations, and other features, such as a small pond to the east of the channel are also visible."
   ]
  },
  {
   "cell_type": "markdown",
   "id": "4f898c31",
   "metadata": {},
   "source": [
    "# Shift model relative to the streambed"
   ]
  },
  {
   "cell_type": "markdown",
   "id": "a89f63d8",
   "metadata": {},
   "source": [
    "We then used the UAV-derived DTMs to generate **Relative Elevation Models (REMs)**, which are DTMs normalized to the stream channel, using two methods:\n",
    "1) [REM Generator Tool](https://drive.google.com/drive/folders/1qcsaKrh-NPplq4P3escRgNW6mokA_QLL). This is a free tool available from the [Colorado Water Conservation Board's Colorado Fluvial Hazard Zone Program](https://www.coloradofhz.com/). However, it requires an [ArcGIS](https://www.esri.com/en-us/arcgis/products/arcgis-desktop/overview) license to run.\n",
    "2) [REMMaker](https://github.com/OpenTopography/RiverREM/blob/main/riverrem/REMMaker.py) tool available on github at [RiverREM](https://github.com/OpenTopography/RiverREM/tree/main). This is an open-source python tool."
   ]
  },
  {
   "cell_type": "code",
   "execution_count": 5,
   "id": "e2172e7a",
   "metadata": {},
   "outputs": [],
   "source": [
    "# Function to run REMMaker with UAV dtms - move to .py\n",
    "def run_rem_maker(site_name, k=100):\n",
    "    \"\"\"Function to run the REMMaker tool on UAV DTMs\n",
    "    \n",
    "    Parameters\n",
    "    -----------\n",
    "    site_name: str\n",
    "        Name of the site with existing DTM.\n",
    "    k: int\n",
    "        Number of interpolation points.\n",
    "        \n",
    "    Returns\n",
    "    ----------\n",
    "    '{site_name}_dtm_REM.tif': image saved locally\n",
    "        REM image file.\n",
    "    \"\"\"\n",
    "    \n",
    "    # Input the DTM file path and desired output directory\n",
    "    override_cache = False\n",
    "    uav_dtm_path = os.path.join(site_name, ('{}_dtm.tif').format(site_name))\n",
    "    uav_out_dir = os.path.join(site_name, 'remmaker')\n",
    "    if (not os.path.exists(uav_out_dir)) or override_cache:\n",
    "            print('{} does not exist. Downloading...'.format(uav_out_dir))\n",
    "            os.makedirs(uav_out_dir)\n",
    "    uav_rem_path = os.path.join(uav_out_dir, \n",
    "                                  ('{}_dtm_REM.tif').format(site_name))\n",
    "\n",
    "    # Run the REMMaker if the path to the REM does not already exist\n",
    "    if (not os.path.exists(uav_rem_path)) or override_cache:\n",
    "        rem_maker = REMMaker(dem=uav_dtm_path, \n",
    "                             out_dir=uav_out_dir, \n",
    "                             interp_pts=1000, \n",
    "                             k=100)\n",
    "\n",
    "        # clear OSM cache\n",
    "        clear_osm_cache()\n",
    "\n",
    "        # create an REM\n",
    "        rem_maker.make_rem()\n",
    "\n",
    "        # create an REM visualization with the given colormap\n",
    "        rem_maker.make_rem_viz(cmap='mako_r')\n",
    "\n",
    "    else:\n",
    "        print('The REM already exists. Not running REMMaker')"
   ]
  },
  {
   "cell_type": "code",
   "execution_count": 6,
   "id": "cbd93090",
   "metadata": {},
   "outputs": [
    {
     "name": "stdout",
     "output_type": "stream",
     "text": [
      "The REM already exists. Not running REMMaker\n",
      "The REM already exists. Not running REMMaker\n",
      "The REM already exists. Not running REMMaker\n"
     ]
    }
   ],
   "source": [
    "# Create UAV REM for three sites with run_rem_maker function\n",
    "# Check on this - the list has nan values, but the .tif files show the correct images\n",
    "site_names = ('highway93', 'applevalley', 'hallmeadows')\n",
    "uav_riverrem_list = []\n",
    "\n",
    "for site in site_names:\n",
    "    run_rem_maker(site_name=site, k=100)\n",
    "    uav_rem_path = os.path.join(site, 'remmaker', ('{}_dtm_REM.tif').format(site))\n",
    "    uav_rem = rxr.open_rasterio(uav_rem_path, masked=True)    \n",
    "    uav_riverrem_list.append(uav_rem)"
   ]
  },
  {
   "cell_type": "markdown",
   "id": "f4209c99",
   "metadata": {},
   "source": [
    "# Visualizing the Results - REM Plots"
   ]
  },
  {
   "cell_type": "markdown",
   "id": "205e73fa",
   "metadata": {},
   "source": [
    "Below are plots of the **REMs** for three sites generated with the REMMaker Tool. The plots show the elevation relative to the stream channel. The color bar on the right shows the elevation in meters above the streambed. Small changes in elevation represent changes in the topography or fluvial landform. The plots reveal older channels that are no longer the main channel as the morphology has shifted over time but may still retain water during flooding."
   ]
  },
  {
   "cell_type": "code",
   "execution_count": null,
   "id": "a5108fe1",
   "metadata": {},
   "outputs": [],
   "source": [
    "# Plot the UAV REMs for 3 sites - this takes a long time to run\n",
    "fig, axes = plt.subplots(3, 1, figsize=(12, 14))\n",
    "plot_title = ['UAV-Derived REM for Highway 93', \n",
    "              'UAV-Derived REM for Apple Valley', \n",
    "              'UAV-Derived REM for Hall Meadows']\n",
    "for i, axe in enumerate(axes.flatten()):\n",
    "    plot_model(\n",
    "        model=uav_rem_list[i],\n",
    "        title=plot_title[i],\n",
    "        coarsen=(True),\n",
    "        ax=axe)"
   ]
  },
  {
   "cell_type": "markdown",
   "id": "45ae921b",
   "metadata": {},
   "source": [
    "# Visualize the Resuts - Histograms¶"
   ]
  },
  {
   "cell_type": "markdown",
   "id": "38274dc6",
   "metadata": {},
   "source": [
    "Histograms show the frequency (count, y0axis) of each elevation (meters, x-axis). A smoother histogram may indicate greater connectivity whereas sharp changes in elevations may indicate a disconnected floopdplain. We can also compare histograms for the REMs created by the [REM Generator Tool](https://drive.google.com/drive/folders/1qcsaKrh-NPplq4P3escRgNW6mokA_QLL) (in ArcMap) versus those for the REMs created with the [REMMaker](https://github.com/OpenTopography/RiverREM/blob/main/riverrem/REMMaker.py) tool (in python)."
   ]
  },
  {
   "cell_type": "code",
   "execution_count": 15,
   "id": "decc16e5",
   "metadata": {},
   "outputs": [
    {
     "data": {
      "image/png": "[encoded data removed]",
      "text/plain": [
       "<Figure size 1000x600 with 1 Axes>"
      ]
     },
     "metadata": {},
     "output_type": "display_data"
    },
    {
     "data": {
      "image/png": "[encoded data removed]",
      "text/plain": [
       "<Figure size 1000x600 with 1 Axes>"
      ]
     },
     "metadata": {},
     "output_type": "display_data"
    },
    {
     "data": {
      "image/png": "[encoded data removed]",
      "text/plain": [
       "<Figure size 1000x600 with 1 Axes>"
      ]
     },
     "metadata": {},
     "output_type": "display_data"
    }
   ],
   "source": [
    "# Call function to plot histogram of UAV REMs\n",
    "    \n",
    "for rem in uav_rem_list:\n",
    "    plot_hist(model=rem, \n",
    "              title=\"Histogram of the REM Data\", \n",
    "              color=\"cyan\")"
   ]
  },
  {
   "cell_type": "markdown",
   "id": "f7d5cb2e",
   "metadata": {},
   "source": [
    "## Export Notebook to HTML File"
   ]
  },
  {
   "cell_type": "code",
   "execution_count": null,
   "id": "a0ed8bb8",
   "metadata": {},
   "outputs": [],
   "source": [
    "# Move to the local repository directory where this notebook is saved\n",
    "repo_dir = os.path.join(\n",
    "    pathlib.Path.home(), 'earth-analytics', 'watershed-project')\n",
    "try:\n",
    "    os.chdir(repo_dir)\n",
    "except:\n",
    "    print('{} does not exist. Please make sure you forked the watershed'\n",
    "          'repository to the correct location. See README' \n",
    "          'for instructions'.format(repo_dir))\n",
    "else:\n",
    "    print('Changed directory to {}'.format(repo_dir))\n",
    "    !jupyter nbconvert --to html --no-input watershed_project_summer23.ipynb"
   ]
  }
 ],
 "metadata": {
  "kernelspec": {
   "display_name": "Python 3 (ipykernel)",
   "language": "python",
   "name": "python3"
  },
  "language_info": {
   "codemirror_mode": {
    "name": "ipython",
    "version": 3
   },
   "file_extension": ".py",
   "mimetype": "text/x-python",
   "name": "python",
   "nbconvert_exporter": "python",
   "pygments_lexer": "ipython3",
   "version": "3.10.10"
  },
  "varInspector": {
   "cols": {
    "lenName": 16,
    "lenType": 16,
    "lenVar": 40
   },
   "kernels_config": {
    "python": {
     "delete_cmd_postfix": "",
     "delete_cmd_prefix": "del ",
     "library": "var_list.py",
     "varRefreshCmd": "print(var_dic_list())"
    },
    "r": {
     "delete_cmd_postfix": ") ",
     "delete_cmd_prefix": "rm(",
     "library": "var_list.r",
     "varRefreshCmd": "cat(var_dic_list()) "
    }
   },
   "types_to_exclude": [
    "module",
    "function",
    "builtin_function_or_method",
    "instance",
    "_Feature"
   ],
   "window_display": false
  }
 },
 "nbformat": 4,
 "nbformat_minor": 5
}
