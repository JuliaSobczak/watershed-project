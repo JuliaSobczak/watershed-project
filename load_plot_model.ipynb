{
 "cells": [
  {
   "cell_type": "code",
   "execution_count": 1,
   "id": "09f66f89",
   "metadata": {},
   "outputs": [],
   "source": [
    "# Imports\n",
    "import os\n",
    "\n",
    "import matplotlib.pyplot as plt\n",
    "import requests\n",
    "import rioxarray as rxr"
   ]
  },
  {
   "cell_type": "code",
   "execution_count": 2,
   "id": "b9db7843",
   "metadata": {},
   "outputs": [],
   "source": [
    "# Function to download and load dtm as data array\n",
    "def load_dtm(data_url, site_name, file_name):\n",
    "    \"\"\"Creates DataArray of Elevation Model Data\n",
    "    \n",
    "    Parameters\n",
    "    ----------\n",
    "    data_url: str\n",
    "        Url to the desired data.\n",
    "    data_name: str\n",
    "        The name of the data.\n",
    "        \n",
    "    Returns\n",
    "    ---------\n",
    "    dtm : dataarray\n",
    "        A dataarray of the elevation model.\n",
    "\n",
    "    \"\"\"\n",
    "    \n",
    "    override_cache = False\n",
    "    data_dir = site_name\n",
    "    data_path = (os.path.join(data_dir, file_name))\n",
    "    \n",
    "    # Cache data file\n",
    "    if not os.path.exists(data_dir):\n",
    "        print('{} does not exist. Creating...'.format(data_dir))\n",
    "        os.makedirs(data_dir)\n",
    "\n",
    "        if (not os.path.exists(data_path)) or override_cache:\n",
    "            print('{} does not exist. Downloading...'.format(data_path))\n",
    "            # Download full data file as zipfile\n",
    "            response = requests.get(data_url)\n",
    "\n",
    "            # Write in respose content using context manager\n",
    "            with open(data_path, 'wb') as data_file:\n",
    "                data_file.write(response.content)\n",
    "    # Open and plot the DTM\n",
    "    dtm = rxr.open_rasterio(data_path, masked=True)\n",
    "              \n",
    "    return dtm"
   ]
  },
  {
   "cell_type": "code",
   "execution_count": 3,
   "id": "9a9061c7",
   "metadata": {},
   "outputs": [],
   "source": [
    "# Function to plot elevation models\n",
    "def plot_model(model, title, coarsen):\n",
    "    \"\"\"\n",
    "    Creates a plot of the DTM or REM.\n",
    "    \n",
    "    Parameters\n",
    "    ------------\n",
    "    model: dataarray\n",
    "        The dataarray to plot.\n",
    "\n",
    "    title: str\n",
    "        The title of the plot.\n",
    "        \n",
    "    coarsen: boolean\n",
    "        True = coarsen data, False = do not coarsen.\n",
    "\n",
    "    Returns\n",
    "    -------\n",
    "    A plot of the elevation model with specified title.\n",
    "    \"\"\"\n",
    "    \n",
    "    fig, ax = plt.subplots(1, 1, figsize=(10, 6))\n",
    "\n",
    "    # Hide x and y axes labels and ticks\n",
    "    ax.xaxis.set_tick_params(labelbottom=False)\n",
    "    ax.yaxis.set_tick_params(labelleft=False)\n",
    "    ax.set_xticks([])\n",
    "    ax.set_yticks([])\n",
    "\n",
    "    # If DTM, coarsen\n",
    "    if coarsen == True:\n",
    "        model.coarsen(\n",
    "            x=3,\n",
    "            boundary='trim').mean().coarsen(\n",
    "                y=3,\n",
    "                boundary='trim').mean().squeeze()\n",
    "    # Plot DTM\n",
    "    model.plot(ax=ax)\n",
    "\n",
    "    # Add title\n",
    "    ax.set_title(title, fontsize=14)"
   ]
  },
  {
   "cell_type": "code",
   "execution_count": 4,
   "id": "09a2a697",
   "metadata": {},
   "outputs": [],
   "source": [
    "# Function to plot a histogram of the REM \n",
    "def plot_hist(model, title, color):\n",
    "    \"\"\"Creates a Histogram of Elevation Model Data\n",
    "    \n",
    "    Parameters\n",
    "    ----------\n",
    "    model: dataarray\n",
    "        The dataarray to plot.\n",
    "\n",
    "    title: str\n",
    "        The title of the plot.\n",
    "        \n",
    "    color: str\n",
    "        Desired color of the plot.\n",
    "        \n",
    "    Returns\n",
    "    -------\n",
    "    The histogram of the elevation model with specified title and color.\n",
    "    \"\"\"\n",
    "\n",
    "    # Create REM histogram plot \n",
    "    fig, ax = plt.subplots(figsize=(10, 6))\n",
    "    model.plot.hist(color=color, bins=20)\n",
    "    ax.set_title(title)\n",
    "    plt.show()"
   ]
  }
 ],
 "metadata": {
  "kernelspec": {
   "display_name": "Python 3 (ipykernel)",
   "language": "python",
   "name": "python3"
  },
  "language_info": {
   "codemirror_mode": {
    "name": "ipython",
    "version": 3
   },
   "file_extension": ".py",
   "mimetype": "text/x-python",
   "name": "python",
   "nbconvert_exporter": "python",
   "pygments_lexer": "ipython3",
   "version": "3.10.10"
  },
  "varInspector": {
   "cols": {
    "lenName": 16,
    "lenType": 16,
    "lenVar": 40
   },
   "kernels_config": {
    "python": {
     "delete_cmd_postfix": "",
     "delete_cmd_prefix": "del ",
     "library": "var_list.py",
     "varRefreshCmd": "print(var_dic_list())"
    },
    "r": {
     "delete_cmd_postfix": ") ",
     "delete_cmd_prefix": "rm(",
     "library": "var_list.r",
     "varRefreshCmd": "cat(var_dic_list()) "
    }
   },
   "types_to_exclude": [
    "module",
    "function",
    "builtin_function_or_method",
    "instance",
    "_Feature"
   ],
   "window_display": false
  }
 },
 "nbformat": 4,
 "nbformat_minor": 5
}
