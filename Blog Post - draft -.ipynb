{
 "cells": [
  {
   "cell_type": "markdown",
   "id": "7beaf54d",
   "metadata": {},
   "source": [
    "# Catchy Title\n",
    "\n",
    "cool REM image\n",
    "\n",
    "Findings in 1-2 sentences"
   ]
  },
  {
   "cell_type": "markdown",
   "id": "23efa6e1",
   "metadata": {},
   "source": [
    "## What is a \"connected floodplain\"?\n",
    "A floodplain is the area adjacent to a stream that becomes inundated with water when a flood occurs. This space allows the flood to \"spread out\" and release energy and suspended objects such as sediment, logs, and debris. By reducing the flow of water down the stream corridor, floodplains effectively mitigate destruction to buildings and other infrastructure downstream. \n",
    "\n",
    "BUT this can only happen if the floodplain is \"available\" to the stream i.e., if the area around the stream is low enough to actually be affected when floodwaters appear. If a floodplain is situated above the highest flow of water, it will not be inundated with water and the floodplain will not act as it should - we call this a disconnected floodplain.\n",
    "\n",
    "\n",
    "A **connected floodplain** is an area near the stream that can accept floodwaters and act as a buffer to potentially dangerous flows down the stream corridor."
   ]
  },
  {
   "cell_type": "markdown",
   "id": "3b4e552d",
   "metadata": {},
   "source": [
    "## Floodplains save lives...and help ecosystems!\n",
    "When a stream overflows onto its floodplain, it aids ecosystem services that can help save lives and increase habitat resiliency to destructive flooding events.\n",
    "\n",
    "Floodplains...\n",
    "* Disperse the force of a flood, which reduces destruction to mand-made structures along the stream\n",
    "* Maintain water quality by reducing sediment/fine particles flowing downstream\n",
    "* Reduce erosion via plants and plant roots growing along the banks (encouraged by nutrients from floodwaters)\n",
    "* Create many paths for water to flow, like side channels and ponds\n",
    "* Capture higher levels of carbon due on the physical properties of wetland soil\n",
    "* Create a uniqe habitat for wetland plants and animals which help air-land-water interactions"
   ]
  },
  {
   "cell_type": "markdown",
   "id": "ea49ef53",
   "metadata": {},
   "source": [
    "## The St. Vrain Watershed (Boulder, CO)\n",
    "Our study sites are located in the St. Vrain Watershed located in the northwest foothills of Colorado, USA. This is a heavily populated area (stats) with beautiful views and lots of opportunity for outdoor recreation including hiking, kayaking, and mountain biking. \n",
    "\n",
    "## Boulder 2013 Floods\n"
   ]
  },
  {
   "cell_type": "markdown",
   "id": "97053c29",
   "metadata": {},
   "source": [
    "## Creating a stream elevation model"
   ]
  },
  {
   "cell_type": "markdown",
   "id": "d3d3e8c2",
   "metadata": {},
   "source": [
    "## Relative Elevation Models (REMs)"
   ]
  },
  {
   "cell_type": "markdown",
   "id": "7d2988ba",
   "metadata": {},
   "source": [
    "## Visualizing the Data"
   ]
  },
  {
   "cell_type": "markdown",
   "id": "738c910f",
   "metadata": {},
   "source": [
    "## What we found"
   ]
  }
 ],
 "metadata": {
  "kernelspec": {
   "display_name": "Python 3 (ipykernel)",
   "language": "python",
   "name": "python3"
  },
  "language_info": {
   "codemirror_mode": {
    "name": "ipython",
    "version": 3
   },
   "file_extension": ".py",
   "mimetype": "text/x-python",
   "name": "python",
   "nbconvert_exporter": "python",
   "pygments_lexer": "ipython3",
   "version": "3.8.13"
  }
 },
 "nbformat": 4,
 "nbformat_minor": 5
}
