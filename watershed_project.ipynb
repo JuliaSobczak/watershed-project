{
 "cells": [
  {
   "cell_type": "markdown",
   "id": "addda2eb-339d-4452-aff3-92c63c95c041",
   "metadata": {
    "tags": []
   },
   "source": [
    "# Watershed Project - Mapping Floodplain Connectivity in Boulder County\n",
    "![Watershed Project](https://watershed.center/wp-content/uploads/2023/04/adaptive-restoration-square.jpg)"
   ]
  },
  {
   "cell_type": "code",
   "execution_count": null,
   "id": "625e209e-3c0e-4c90-8875-8d800d638f1c",
   "metadata": {},
   "outputs": [],
   "source": []
  },
  {
   "cell_type": "markdown",
   "id": "16c1211f-de7d-40ab-a69b-de7258473946",
   "metadata": {},
   "source": [
    "* Add code to download 2 datesets and process to make a plot\n",
    "* Possibly link to DTM on google and use RiverREM to plot or just upload DTM and they process (but file size may be to large)\n",
    "* Create an environement that inlcudes river REM project"
   ]
  }
 ],
 "metadata": {
  "kernelspec": {
   "display_name": "Python 3 (ipykernel)",
   "language": "python",
   "name": "python3"
  },
  "language_info": {
   "codemirror_mode": {
    "name": "ipython",
    "version": 3
   },
   "file_extension": ".py",
   "mimetype": "text/x-python",
   "name": "python",
   "nbconvert_exporter": "python",
   "pygments_lexer": "ipython3",
   "version": "3.10.4"
  }
 },
 "nbformat": 4,
 "nbformat_minor": 5
}
