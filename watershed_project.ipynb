{
 "cells": [
  {
   "cell_type": "markdown",
   "id": "addda2eb-339d-4452-aff3-92c63c95c041",
   "metadata": {
    "tags": []
   },
   "source": [
    "![Watershed Project](https://watershed.center/wp-content/uploads/2023/04/adaptive-restoration-square.jpg)"
   ]
  }
 ],
 "metadata": {
  "kernelspec": {
   "display_name": "Python 3 (ipykernel)",
   "language": "python",
   "name": "python3"
  },
  "language_info": {
   "codemirror_mode": {
    "name": "ipython",
    "version": 3
   },
   "file_extension": ".py",
   "mimetype": "text/x-python",
   "name": "python",
   "nbconvert_exporter": "python",
   "pygments_lexer": "ipython3",
   "version": "3.10.4"
  }
 },
 "nbformat": 4,
 "nbformat_minor": 5
}
