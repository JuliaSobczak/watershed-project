{
 "cells": [
  {
   "cell_type": "code",
   "execution_count": 1,
   "id": "09f66f89",
   "metadata": {},
   "outputs": [],
   "source": [
    "# Import packages\n",
    "import os\n",
    "\n",
    "import matplotlib.pyplot as plt"
   ]
  },
  {
   "cell_type": "code",
   "execution_count": 2,
   "id": "9a9061c7",
   "metadata": {},
   "outputs": [],
   "source": [
    "# Function to plot Elevation models\n",
    "def plot_model(model, title, coarsen):\n",
    "    \"\"\"\n",
    "    Creates a plot of the DTM or REM.\n",
    "    \n",
    "    Parameters\n",
    "    ------------\n",
    "    model: dataarray\n",
    "        The dataarray to plot.\n",
    "\n",
    "    title: str\n",
    "        The title of the plot.\n",
    "        \n",
    "    coarsen: boolean\n",
    "        True = coarsen data, False = do not coarsen.\n",
    "\n",
    "    Returns\n",
    "    -------\n",
    "    nwis_df: pd.DataFrame\n",
    "        The requested dischsrge data.\n",
    "    \"\"\"\n",
    "    \n",
    "    fig, ax = plt.subplots(1, 1, figsize=(10, 6))\n",
    "\n",
    "    # Hide x and y axes labels and ticks\n",
    "    ax.xaxis.set_tick_params(labelbottom=False)\n",
    "    ax.yaxis.set_tick_params(labelleft=False)\n",
    "    ax.set_xticks([])\n",
    "    ax.set_yticks([])\n",
    "\n",
    "    # If DTM, coarsen\n",
    "    if coarsen == True:\n",
    "        model.coarsen(\n",
    "            x=3,\n",
    "            boundary='trim').mean().coarsen(\n",
    "                y=3,\n",
    "                boundary='trim').mean().squeeze()\n",
    "    # Plot DTM\n",
    "    model.plot(ax=ax)\n",
    "\n",
    "    # Add title\n",
    "    ax.set_title(title, fontsize=14)"
   ]
  }
 ],
 "metadata": {
  "kernelspec": {
   "display_name": "Python 3 (ipykernel)",
   "language": "python",
   "name": "python3"
  },
  "language_info": {
   "codemirror_mode": {
    "name": "ipython",
    "version": 3
   },
   "file_extension": ".py",
   "mimetype": "text/x-python",
   "name": "python",
   "nbconvert_exporter": "python",
   "pygments_lexer": "ipython3",
   "version": "3.10.10"
  },
  "varInspector": {
   "cols": {
    "lenName": 16,
    "lenType": 16,
    "lenVar": 40
   },
   "kernels_config": {
    "python": {
     "delete_cmd_postfix": "",
     "delete_cmd_prefix": "del ",
     "library": "var_list.py",
     "varRefreshCmd": "print(var_dic_list())"
    },
    "r": {
     "delete_cmd_postfix": ") ",
     "delete_cmd_prefix": "rm(",
     "library": "var_list.r",
     "varRefreshCmd": "cat(var_dic_list()) "
    }
   },
   "types_to_exclude": [
    "module",
    "function",
    "builtin_function_or_method",
    "instance",
    "_Feature"
   ],
   "window_display": false
  }
 },
 "nbformat": 4,
 "nbformat_minor": 5
}
